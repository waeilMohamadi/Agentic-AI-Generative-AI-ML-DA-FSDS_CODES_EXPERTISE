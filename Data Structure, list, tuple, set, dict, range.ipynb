{
 "cells": [
  {
   "cell_type": "markdown",
   "id": "5d237904-abdd-4e57-ba00-5ac3e210c53e",
   "metadata": {},
   "source": [
    "- List \n",
    "- Tuple\n",
    "- Set\n",
    "- Dict\n",
    "- Range "
   ]
  },
  {
   "cell_type": "markdown",
   "id": "6b393dae-ecaa-4766-b7c3-af25688c7e5c",
   "metadata": {},
   "source": [
    "# LIST"
   ]
  },
  {
   "cell_type": "code",
   "execution_count": 1,
   "id": "51ebbad0-2c5a-44ee-a52d-93fdda81ac57",
   "metadata": {},
   "outputs": [
    {
     "data": {
      "text/plain": [
       "[]"
      ]
     },
     "execution_count": 1,
     "metadata": {},
     "output_type": "execute_result"
    }
   ],
   "source": [
    "l = [] \n",
    "l "
   ]
  },
  {
   "cell_type": "code",
   "execution_count": 2,
   "id": "eb17322e-db3a-4f2b-8512-e13eec093efc",
   "metadata": {},
   "outputs": [
    {
     "data": {
      "text/plain": [
       "list"
      ]
     },
     "execution_count": 2,
     "metadata": {},
     "output_type": "execute_result"
    }
   ],
   "source": [
    "type(l)"
   ]
  },
  {
   "cell_type": "code",
   "execution_count": 3,
   "id": "51fbdec6-4a20-4e15-acfb-d0cd90a659dd",
   "metadata": {},
   "outputs": [
    {
     "data": {
      "text/plain": [
       "0"
      ]
     },
     "execution_count": 3,
     "metadata": {},
     "output_type": "execute_result"
    }
   ],
   "source": [
    "len(l) "
   ]
  },
  {
   "cell_type": "code",
   "execution_count": 4,
   "id": "4880e515-6946-461f-8ee1-e2412a87f35b",
   "metadata": {},
   "outputs": [
    {
     "ename": "TypeError",
     "evalue": "list.append() takes exactly one argument (0 given)",
     "output_type": "error",
     "traceback": [
      "\u001b[1;31m---------------------------------------------------------------------------\u001b[0m",
      "\u001b[1;31mTypeError\u001b[0m                                 Traceback (most recent call last)",
      "Cell \u001b[1;32mIn[4], line 1\u001b[0m\n\u001b[1;32m----> 1\u001b[0m l\u001b[38;5;241m.\u001b[39mappend()\n",
      "\u001b[1;31mTypeError\u001b[0m: list.append() takes exactly one argument (0 given)"
     ]
    }
   ],
   "source": [
    "l.append() "
   ]
  },
  {
   "cell_type": "code",
   "execution_count": null,
   "id": "784bd5f0-b3b9-4580-bb79-0f002c60b078",
   "metadata": {},
   "outputs": [],
   "source": [
    "l.append(10) "
   ]
  },
  {
   "cell_type": "code",
   "execution_count": null,
   "id": "2bbf1d0a-fad6-40a8-a574-63ce7dd478ad",
   "metadata": {},
   "outputs": [],
   "source": [
    "l"
   ]
  },
  {
   "cell_type": "code",
   "execution_count": null,
   "id": "c0aac08b-39b2-42c4-8a90-a52361fe1d2c",
   "metadata": {},
   "outputs": [],
   "source": [
    "l.append(20)\n",
    "l.append(30)\n",
    "l.append(40)"
   ]
  },
  {
   "cell_type": "code",
   "execution_count": null,
   "id": "5efd108e-4527-4ebf-9c2f-009f80ed8baa",
   "metadata": {},
   "outputs": [],
   "source": [
    "l"
   ]
  },
  {
   "cell_type": "code",
   "execution_count": null,
   "id": "5e6d818b-faa4-4d3b-8710-92b1441037b8",
   "metadata": {},
   "outputs": [],
   "source": [
    "len(l)"
   ]
  },
  {
   "cell_type": "code",
   "execution_count": null,
   "id": "16761b64-b6ae-47d0-a822-e01e680ab55d",
   "metadata": {},
   "outputs": [],
   "source": [
    "l.append(50)"
   ]
  },
  {
   "cell_type": "code",
   "execution_count": null,
   "id": "d1384ee5-af33-4b09-bf16-f6bd6c37f221",
   "metadata": {},
   "outputs": [],
   "source": [
    "l"
   ]
  },
  {
   "cell_type": "code",
   "execution_count": null,
   "id": "1e0a25b4-4a36-4f29-b823-d46b9b27de03",
   "metadata": {},
   "outputs": [],
   "source": [
    "l1 = [10, 3.4, 'ten', True, 1+2j]\n",
    "l1"
   ]
  },
  {
   "cell_type": "code",
   "execution_count": null,
   "id": "28b5439d-1c07-4a83-8644-2e6ffe3a3e77",
   "metadata": {},
   "outputs": [],
   "source": [
    "print(l)\n",
    "print(l1)"
   ]
  },
  {
   "cell_type": "code",
   "execution_count": null,
   "id": "fac8b093-097e-46c5-bbd7-61f7fcdc914f",
   "metadata": {},
   "outputs": [],
   "source": [
    "print(len(l))\n",
    "print(len(l1))"
   ]
  },
  {
   "cell_type": "code",
   "execution_count": null,
   "id": "b0fc9b8f-b7bc-47a4-a901-a17f1fc66e7b",
   "metadata": {},
   "outputs": [],
   "source": [
    "print(id(l))\n",
    "print(id(l1))"
   ]
  },
  {
   "cell_type": "code",
   "execution_count": null,
   "id": "10fae8dd-68e0-49bb-8481-793ea33edf2c",
   "metadata": {},
   "outputs": [],
   "source": [
    "l2 "
   ]
  },
  {
   "cell_type": "code",
   "execution_count": null,
   "id": "28f73aa8-72af-4ded-ba75-9e028ca145a5",
   "metadata": {},
   "outputs": [],
   "source": [
    "l2 = l1.copy()\n",
    "l2"
   ]
  },
  {
   "cell_type": "code",
   "execution_count": null,
   "id": "519248d6-0a0c-423c-993a-f364513f1f1e",
   "metadata": {},
   "outputs": [],
   "source": [
    "l1 == l2 "
   ]
  },
  {
   "cell_type": "code",
   "execution_count": null,
   "id": "1d1c5eb9-1cc1-4b58-bf79-e1bcd45ea8dd",
   "metadata": {},
   "outputs": [],
   "source": [
    "l == l2"
   ]
  },
  {
   "cell_type": "code",
   "execution_count": null,
   "id": "85338337-8b4a-4f2f-a4cc-44713fb9df4f",
   "metadata": {},
   "outputs": [],
   "source": [
    "print(l)\n",
    "print(l1)\n",
    "print(l2)"
   ]
  },
  {
   "cell_type": "code",
   "execution_count": null,
   "id": "ef190d8d-3300-4577-936b-70c296eb41bb",
   "metadata": {},
   "outputs": [],
   "source": [
    "l != l2"
   ]
  },
  {
   "cell_type": "code",
   "execution_count": null,
   "id": "aa625ad4-9313-4c54-9acc-f676ac1035df",
   "metadata": {},
   "outputs": [],
   "source": [
    "l"
   ]
  },
  {
   "cell_type": "code",
   "execution_count": null,
   "id": "d9d6e4ce-5a77-4ee9-8920-29304f94f7dd",
   "metadata": {},
   "outputs": [],
   "source": [
    "l[:] "
   ]
  },
  {
   "cell_type": "code",
   "execution_count": null,
   "id": "740ca1a4-fafd-46a6-9192-9cc3a86b68fa",
   "metadata": {},
   "outputs": [],
   "source": [
    "l[0]"
   ]
  },
  {
   "cell_type": "code",
   "execution_count": null,
   "id": "f854fc21-5adc-4834-bf94-e21b0f28825d",
   "metadata": {},
   "outputs": [],
   "source": [
    "l[-1]"
   ]
  },
  {
   "cell_type": "code",
   "execution_count": null,
   "id": "37368edd-119a-4929-b1f0-8707be6cddce",
   "metadata": {},
   "outputs": [],
   "source": [
    "l"
   ]
  },
  {
   "cell_type": "code",
   "execution_count": null,
   "id": "c082fb8c-3109-42ab-a671-23d4ef42229c",
   "metadata": {},
   "outputs": [],
   "source": [
    "l[4]"
   ]
  },
  {
   "cell_type": "code",
   "execution_count": null,
   "id": "d9661256-b245-4b94-be0d-2296628a8070",
   "metadata": {},
   "outputs": [],
   "source": [
    "l[5]"
   ]
  },
  {
   "cell_type": "code",
   "execution_count": null,
   "id": "9f4e9bc1-fb28-4d1c-8711-d2b07d465d4e",
   "metadata": {},
   "outputs": [],
   "source": [
    "l[10] "
   ]
  },
  {
   "cell_type": "code",
   "execution_count": null,
   "id": "109e543d-5a26-45ef-8149-89c234fa0ea5",
   "metadata": {},
   "outputs": [],
   "source": [
    "l"
   ]
  },
  {
   "cell_type": "code",
   "execution_count": null,
   "id": "f98ba38f-895d-49b5-8725-da09de683976",
   "metadata": {},
   "outputs": [],
   "source": [
    "l[0] "
   ]
  },
  {
   "cell_type": "code",
   "execution_count": null,
   "id": "59f53e2b-95c3-4048-bd7b-8fb9e46cb6fb",
   "metadata": {},
   "outputs": [],
   "source": [
    "l[0] = 100"
   ]
  },
  {
   "cell_type": "code",
   "execution_count": null,
   "id": "36fe52d0-77c2-40f9-8539-54830fa04064",
   "metadata": {},
   "outputs": [],
   "source": [
    "l"
   ]
  },
  {
   "cell_type": "code",
   "execution_count": null,
   "id": "0eea8af9-23d2-4e80-83e0-2ed1f8e5f080",
   "metadata": {},
   "outputs": [],
   "source": [
    "l[-1] = 'jan'"
   ]
  },
  {
   "cell_type": "code",
   "execution_count": null,
   "id": "b205d07c-be7b-4235-83da-385a5e3e51dc",
   "metadata": {},
   "outputs": [],
   "source": [
    "l"
   ]
  },
  {
   "cell_type": "code",
   "execution_count": null,
   "id": "2541fafb-cf9a-4abd-a71b-bbb36266cfde",
   "metadata": {},
   "outputs": [],
   "source": [
    "l.append('feb')"
   ]
  },
  {
   "cell_type": "code",
   "execution_count": null,
   "id": "90865970-0a6d-4ee6-a90c-4c56decf7fc3",
   "metadata": {},
   "outputs": [],
   "source": [
    "l"
   ]
  },
  {
   "cell_type": "code",
   "execution_count": null,
   "id": "917a4d7e-9f15-4467-a360-8cfd6d675fa8",
   "metadata": {},
   "outputs": [],
   "source": [
    "l.append(40)\n",
    "l"
   ]
  },
  {
   "cell_type": "code",
   "execution_count": null,
   "id": "ee98fd93-a9fd-4561-a677-d59057597a93",
   "metadata": {},
   "outputs": [],
   "source": [
    "l"
   ]
  },
  {
   "cell_type": "code",
   "execution_count": null,
   "id": "2597ceb0-2610-418f-8c0f-6f949bf8212c",
   "metadata": {},
   "outputs": [],
   "source": [
    "l2"
   ]
  },
  {
   "cell_type": "code",
   "execution_count": null,
   "id": "9ee84121-d587-460b-b3df-7cdf6453c08d",
   "metadata": {},
   "outputs": [],
   "source": [
    "len(l2)"
   ]
  },
  {
   "cell_type": "code",
   "execution_count": null,
   "id": "49c31e38-103f-4e3e-84ee-ce6c4e204d4d",
   "metadata": {},
   "outputs": [],
   "source": [
    "l2.clear()"
   ]
  },
  {
   "cell_type": "code",
   "execution_count": null,
   "id": "f480ab6a-50c0-43b7-ab4c-637781712bd1",
   "metadata": {},
   "outputs": [],
   "source": [
    "l2"
   ]
  },
  {
   "cell_type": "code",
   "execution_count": null,
   "id": "cad27f5f-c3e0-43aa-b134-0144f25efe81",
   "metadata": {},
   "outputs": [],
   "source": [
    "len(l2) "
   ]
  },
  {
   "cell_type": "code",
   "execution_count": null,
   "id": "ec567d41-a24b-48c3-b234-930a23919b1d",
   "metadata": {},
   "outputs": [],
   "source": [
    "del l2 "
   ]
  },
  {
   "cell_type": "code",
   "execution_count": null,
   "id": "d8ae009d-df18-43fd-bfef-646170e7ad5b",
   "metadata": {},
   "outputs": [],
   "source": [
    "l"
   ]
  },
  {
   "cell_type": "code",
   "execution_count": null,
   "id": "d851e40e-f068-42c4-a24c-07f03794c999",
   "metadata": {},
   "outputs": [],
   "source": [
    "l.count(100)"
   ]
  },
  {
   "cell_type": "code",
   "execution_count": null,
   "id": "0b4bc5f5-6d12-4064-b56b-e020cd0d4064",
   "metadata": {},
   "outputs": [],
   "source": [
    "l.count(40)"
   ]
  },
  {
   "cell_type": "code",
   "execution_count": null,
   "id": "9310a97e-8cdd-4c13-b50b-ee91f3313503",
   "metadata": {},
   "outputs": [],
   "source": [
    "l"
   ]
  },
  {
   "cell_type": "code",
   "execution_count": null,
   "id": "efb739fc-42a9-48f7-a6c9-936bef9eb335",
   "metadata": {},
   "outputs": [],
   "source": [
    "l.count(1000) "
   ]
  },
  {
   "cell_type": "code",
   "execution_count": null,
   "id": "a2c3d313-c650-451a-ac7d-813081e5f6e2",
   "metadata": {},
   "outputs": [],
   "source": [
    "print(l)\n",
    "print(l1)"
   ]
  },
  {
   "cell_type": "code",
   "execution_count": null,
   "id": "c6ca151a-ad10-4c30-a2e5-0d64cff8bc65",
   "metadata": {},
   "outputs": [],
   "source": [
    "print(len(l))\n",
    "print(len(l1))"
   ]
  },
  {
   "cell_type": "markdown",
   "id": "87641f6a-0bad-43a1-a400-7f3896ac88d3",
   "metadata": {},
   "source": [
    "# list membership "
   ]
  },
  {
   "cell_type": "code",
   "execution_count": null,
   "id": "5024ffc4-3951-43a5-98db-82370403cc38",
   "metadata": {},
   "outputs": [],
   "source": [
    "l"
   ]
  },
  {
   "cell_type": "code",
   "execution_count": null,
   "id": "bdcb12e2-7929-42c3-9249-6712659d2b1f",
   "metadata": {},
   "outputs": [],
   "source": [
    "100 in l"
   ]
  },
  {
   "cell_type": "code",
   "execution_count": null,
   "id": "ef7ce1e5-8d2c-4d0d-bb5b-a88a273a7339",
   "metadata": {},
   "outputs": [],
   "source": [
    "1000 in l"
   ]
  },
  {
   "cell_type": "code",
   "execution_count": null,
   "id": "b644c18a-6b90-47ef-86fa-2d1dafb736eb",
   "metadata": {},
   "outputs": [],
   "source": [
    "l"
   ]
  },
  {
   "cell_type": "code",
   "execution_count": null,
   "id": "98746c7b-9551-4d89-a9c6-227a61dde328",
   "metadata": {},
   "outputs": [],
   "source": [
    "l1"
   ]
  },
  {
   "cell_type": "code",
   "execution_count": null,
   "id": "35cf280f-87cf-4607-83cf-e2cc35a855fa",
   "metadata": {},
   "outputs": [],
   "source": [
    "l2 = [] "
   ]
  },
  {
   "cell_type": "code",
   "execution_count": null,
   "id": "653cf0d8-3665-4a25-bd64-e7d3f7c5a62b",
   "metadata": {},
   "outputs": [],
   "source": [
    "print(len(l))\n",
    "print(len(l1))\n",
    "print(len(l2))"
   ]
  },
  {
   "cell_type": "code",
   "execution_count": null,
   "id": "00b19a26-7a23-4053-8c3a-ae629e316090",
   "metadata": {},
   "outputs": [],
   "source": [
    "l"
   ]
  },
  {
   "cell_type": "code",
   "execution_count": null,
   "id": "aa77479c-37b8-4341-8f43-a690cb63e26f",
   "metadata": {},
   "outputs": [],
   "source": [
    "l1"
   ]
  },
  {
   "cell_type": "code",
   "execution_count": null,
   "id": "8a0f7ab4-ebc3-4605-9d62-354b88f34f1c",
   "metadata": {},
   "outputs": [],
   "source": [
    "l2"
   ]
  },
  {
   "cell_type": "code",
   "execution_count": null,
   "id": "5f5d319f-401f-4ac6-b2be-ceb57ec960d4",
   "metadata": {},
   "outputs": [],
   "source": [
    "l2.extend(l)"
   ]
  },
  {
   "cell_type": "code",
   "execution_count": null,
   "id": "33a1bfae-5ca0-4463-8d6d-905683754675",
   "metadata": {},
   "outputs": [],
   "source": [
    "l2"
   ]
  },
  {
   "cell_type": "code",
   "execution_count": null,
   "id": "973f7d98-2da2-481c-ac76-059750784d42",
   "metadata": {},
   "outputs": [],
   "source": [
    "l2.extend(l1)"
   ]
  },
  {
   "cell_type": "code",
   "execution_count": null,
   "id": "6787779f-33ea-47cf-9eeb-fc9eef10daf0",
   "metadata": {},
   "outputs": [],
   "source": [
    "l2"
   ]
  },
  {
   "cell_type": "code",
   "execution_count": null,
   "id": "8e536a54-89bc-428f-b0c7-30437b2f4845",
   "metadata": {},
   "outputs": [],
   "source": [
    "l1"
   ]
  },
  {
   "cell_type": "code",
   "execution_count": null,
   "id": "21c8b691-a51d-42b9-8687-f06f53bef72e",
   "metadata": {},
   "outputs": [],
   "source": [
    "l1.extend(l2) "
   ]
  },
  {
   "cell_type": "code",
   "execution_count": null,
   "id": "708b86d7-3108-4bd8-9ab6-a694d3a3e372",
   "metadata": {},
   "outputs": [],
   "source": [
    "l1"
   ]
  },
  {
   "cell_type": "code",
   "execution_count": null,
   "id": "a1465b75-8c8a-4293-81f1-d09d2cfe4787",
   "metadata": {},
   "outputs": [],
   "source": [
    "len(l1)"
   ]
  },
  {
   "cell_type": "code",
   "execution_count": null,
   "id": "b1677a06-4752-4b8a-8c8c-2575536b18c6",
   "metadata": {},
   "outputs": [],
   "source": [
    "l"
   ]
  },
  {
   "cell_type": "code",
   "execution_count": null,
   "id": "0fae27eb-f6f7-44cb-a700-ab6202752b8a",
   "metadata": {},
   "outputs": [],
   "source": [
    "l.index('jan')"
   ]
  },
  {
   "cell_type": "code",
   "execution_count": null,
   "id": "e1b22481-3045-4642-80b6-5dcdb28f5bfd",
   "metadata": {},
   "outputs": [],
   "source": [
    "l"
   ]
  },
  {
   "cell_type": "code",
   "execution_count": null,
   "id": "56c0f37a-d702-4386-b1d4-b6e1feff9375",
   "metadata": {},
   "outputs": [],
   "source": [
    "l[:]"
   ]
  },
  {
   "cell_type": "code",
   "execution_count": null,
   "id": "9f048a68-a413-44cf-92fd-2b95fd94d10a",
   "metadata": {},
   "outputs": [],
   "source": [
    "l2"
   ]
  },
  {
   "cell_type": "code",
   "execution_count": null,
   "id": "aae5afa4-f702-4efa-b301-4e824dd13d14",
   "metadata": {},
   "outputs": [],
   "source": [
    "l2[:]"
   ]
  },
  {
   "cell_type": "code",
   "execution_count": null,
   "id": "7a5483c0-7817-44bf-8a94-b9a1c42ac896",
   "metadata": {},
   "outputs": [],
   "source": [
    "l2[0:6] "
   ]
  },
  {
   "cell_type": "code",
   "execution_count": null,
   "id": "b3c280c3-5686-49d2-b676-922808d10d8d",
   "metadata": {},
   "outputs": [],
   "source": [
    "l2"
   ]
  },
  {
   "cell_type": "code",
   "execution_count": null,
   "id": "db0dabe4-8524-4b96-9196-6ca95ea4e60b",
   "metadata": {},
   "outputs": [],
   "source": [
    "l2[3:10]"
   ]
  },
  {
   "cell_type": "code",
   "execution_count": null,
   "id": "341615b8-c29e-4dd1-a793-4d677e5d741d",
   "metadata": {},
   "outputs": [],
   "source": [
    "l2"
   ]
  },
  {
   "cell_type": "code",
   "execution_count": null,
   "id": "e4d49f3c-79cc-454d-ac71-1050bc9617eb",
   "metadata": {},
   "outputs": [],
   "source": [
    "l2[::2] "
   ]
  },
  {
   "cell_type": "code",
   "execution_count": null,
   "id": "cad4f3ed-a2aa-453b-939b-5522f77d7bcd",
   "metadata": {},
   "outputs": [],
   "source": [
    "l2"
   ]
  },
  {
   "cell_type": "code",
   "execution_count": null,
   "id": "8acef999-0f6a-4d72-8a09-7889d8fa4b90",
   "metadata": {},
   "outputs": [],
   "source": [
    "l2[::5] "
   ]
  },
  {
   "cell_type": "markdown",
   "id": "f0f4ab1c-f9ad-4753-9178-9e7760d83718",
   "metadata": {},
   "source": [
    "# backwaard indexing & backward slicing"
   ]
  },
  {
   "cell_type": "code",
   "execution_count": null,
   "id": "1aed6741-07e8-4dd4-bd18-21741978876b",
   "metadata": {},
   "outputs": [],
   "source": [
    "l2"
   ]
  },
  {
   "cell_type": "code",
   "execution_count": null,
   "id": "d367a338-38a1-4016-bb20-658098063c2f",
   "metadata": {},
   "outputs": [],
   "source": [
    "l2[:]"
   ]
  },
  {
   "cell_type": "code",
   "execution_count": null,
   "id": "5a067bdb-e64e-4053-9156-8c519beb3597",
   "metadata": {},
   "outputs": [],
   "source": [
    "l2[-5] "
   ]
  },
  {
   "cell_type": "code",
   "execution_count": null,
   "id": "575d25ba-8a3b-44d4-9788-d924240d3574",
   "metadata": {},
   "outputs": [],
   "source": [
    "l2"
   ]
  },
  {
   "cell_type": "code",
   "execution_count": null,
   "id": "0ec5e0cb-98f2-49cc-9dc1-c89b06bf12bc",
   "metadata": {},
   "outputs": [],
   "source": [
    "l2[:-9]"
   ]
  },
  {
   "cell_type": "code",
   "execution_count": null,
   "id": "8f07669c-02c4-4377-8db4-57a39cac6747",
   "metadata": {},
   "outputs": [],
   "source": [
    "l2"
   ]
  },
  {
   "cell_type": "code",
   "execution_count": null,
   "id": "3efe4fc4-be58-4591-a417-a9b6d3b62580",
   "metadata": {},
   "outputs": [],
   "source": [
    "l2[:-3]"
   ]
  },
  {
   "cell_type": "code",
   "execution_count": null,
   "id": "515fb042-5267-440d-8739-b58b050141ef",
   "metadata": {},
   "outputs": [],
   "source": [
    "l2"
   ]
  },
  {
   "cell_type": "code",
   "execution_count": null,
   "id": "3f2b6087-0590-4317-8051-4a3424b985ac",
   "metadata": {},
   "outputs": [],
   "source": [
    "l2[-3:]"
   ]
  },
  {
   "cell_type": "code",
   "execution_count": null,
   "id": "13dc175c-1726-4f1b-9844-5364da6917c9",
   "metadata": {},
   "outputs": [],
   "source": [
    "l2"
   ]
  },
  {
   "cell_type": "code",
   "execution_count": null,
   "id": "cab0b072-7ae8-4ac4-a151-c836d6d2b9a3",
   "metadata": {},
   "outputs": [],
   "source": [
    "l2[3:-3] "
   ]
  },
  {
   "cell_type": "code",
   "execution_count": null,
   "id": "d2c87197-d21c-41db-b7ff-b6cc9465142c",
   "metadata": {},
   "outputs": [],
   "source": [
    "l2"
   ]
  },
  {
   "cell_type": "code",
   "execution_count": null,
   "id": "0607de64-920f-47f8-8330-3673b93f0de8",
   "metadata": {},
   "outputs": [],
   "source": [
    "l2[::-1] "
   ]
  },
  {
   "cell_type": "code",
   "execution_count": null,
   "id": "ecd5621b-3d6b-4c60-a94f-01c4f2889c0b",
   "metadata": {},
   "outputs": [],
   "source": [
    "l2"
   ]
  },
  {
   "cell_type": "code",
   "execution_count": null,
   "id": "f5e183ca-aba2-468c-b923-cfc02a28215a",
   "metadata": {},
   "outputs": [],
   "source": [
    "l2[:-3]"
   ]
  },
  {
   "cell_type": "code",
   "execution_count": null,
   "id": "47357ec1-9d41-49b2-8f46-f9f3ee0ab3a3",
   "metadata": {},
   "outputs": [],
   "source": [
    "l2"
   ]
  },
  {
   "cell_type": "code",
   "execution_count": null,
   "id": "ec7f974f-5f45-47fb-ab2c-237c439c377d",
   "metadata": {},
   "outputs": [],
   "source": [
    "l2[::-3]"
   ]
  },
  {
   "cell_type": "code",
   "execution_count": null,
   "id": "eb9a2692-8ca5-463f-8c69-1b99826dc729",
   "metadata": {},
   "outputs": [],
   "source": [
    "print(l)\n",
    "print(l1)\n",
    "print(l2)"
   ]
  },
  {
   "cell_type": "code",
   "execution_count": null,
   "id": "338e4bde-85b9-4615-ab1d-51db4741ea86",
   "metadata": {},
   "outputs": [],
   "source": [
    "l1.remove(1+2j)"
   ]
  },
  {
   "cell_type": "code",
   "execution_count": null,
   "id": "ce4508d6-2861-41b0-b148-84d917a640cf",
   "metadata": {},
   "outputs": [],
   "source": [
    "print(l1)"
   ]
  },
  {
   "cell_type": "markdown",
   "id": "c39fe9f1-505e-48a2-81a3-e4fd6931158f",
   "metadata": {},
   "source": [
    "# 23rd "
   ]
  },
  {
   "cell_type": "code",
   "execution_count": null,
   "id": "674aac38-f11b-48d7-a3ce-0ba61fd664c9",
   "metadata": {},
   "outputs": [],
   "source": [
    "print(l)\n",
    "print(l1)\n",
    "print(l2)"
   ]
  },
  {
   "cell_type": "code",
   "execution_count": null,
   "id": "1302ad14-1717-49ab-a9cf-578f6046af1e",
   "metadata": {},
   "outputs": [],
   "source": [
    "l"
   ]
  },
  {
   "cell_type": "code",
   "execution_count": null,
   "id": "f8def3f0-7328-4b0f-862b-263d6a9d2fe1",
   "metadata": {},
   "outputs": [],
   "source": [
    "l.append(10)"
   ]
  },
  {
   "cell_type": "code",
   "execution_count": null,
   "id": "ecd04159-603c-4d6e-b029-bb54a1276c9b",
   "metadata": {},
   "outputs": [],
   "source": [
    "l"
   ]
  },
  {
   "cell_type": "code",
   "execution_count": null,
   "id": "3e46942f-16e0-4fd4-a138-d3ca929be66f",
   "metadata": {},
   "outputs": [],
   "source": [
    "l.remove(10)"
   ]
  },
  {
   "cell_type": "code",
   "execution_count": null,
   "id": "5212c6fc-b7a9-49f6-bc33-35f84b5ad9f7",
   "metadata": {},
   "outputs": [],
   "source": [
    "l"
   ]
  },
  {
   "cell_type": "code",
   "execution_count": null,
   "id": "f61f39de-8bdf-4865-befe-e4487106949a",
   "metadata": {},
   "outputs": [],
   "source": [
    "l"
   ]
  },
  {
   "cell_type": "code",
   "execution_count": null,
   "id": "1be6ac49-f3fa-4872-8ff1-4ddabca3437b",
   "metadata": {},
   "outputs": [],
   "source": [
    "l.insert(25,2)"
   ]
  },
  {
   "cell_type": "code",
   "execution_count": null,
   "id": "6b45143f-b66f-4d93-ac89-cd5d5452d253",
   "metadata": {},
   "outputs": [],
   "source": [
    "l"
   ]
  },
  {
   "cell_type": "code",
   "execution_count": null,
   "id": "0a7c6d00-b052-4043-92b5-6a23036161b1",
   "metadata": {},
   "outputs": [],
   "source": [
    "l.insert(2,25)"
   ]
  },
  {
   "cell_type": "code",
   "execution_count": null,
   "id": "61d660ab-9fb1-4e3b-b2fd-f543d3f72b05",
   "metadata": {},
   "outputs": [],
   "source": [
    "l"
   ]
  },
  {
   "cell_type": "code",
   "execution_count": null,
   "id": "740a2e92-0c25-459d-9bce-cc18dfd985bc",
   "metadata": {},
   "outputs": [],
   "source": [
    "l.insert(4, 35)"
   ]
  },
  {
   "cell_type": "code",
   "execution_count": null,
   "id": "325062ba-6e7c-42ae-bc4f-f0caa5b02ff5",
   "metadata": {},
   "outputs": [],
   "source": [
    "l"
   ]
  },
  {
   "cell_type": "code",
   "execution_count": null,
   "id": "089ab4f4-5935-4ec1-bec7-8a3ae482289b",
   "metadata": {},
   "outputs": [],
   "source": [
    "l.insert([1,2,3], 10)"
   ]
  },
  {
   "cell_type": "code",
   "execution_count": null,
   "id": "fbe3ddfb-a8ee-48b9-8ea2-76a422e23a31",
   "metadata": {},
   "outputs": [],
   "source": [
    "l.append([1,2,3])\n",
    "l"
   ]
  },
  {
   "cell_type": "code",
   "execution_count": null,
   "id": "740e9988-678c-44d8-9892-5baff238e3c0",
   "metadata": {},
   "outputs": [],
   "source": [
    "l"
   ]
  },
  {
   "cell_type": "code",
   "execution_count": null,
   "id": "4c2102a2-a44d-43c4-8427-00894c9ab49d",
   "metadata": {},
   "outputs": [],
   "source": [
    "l.pop() "
   ]
  },
  {
   "cell_type": "code",
   "execution_count": null,
   "id": "d89444ab-c430-4a75-b33f-edb6b09ba3e3",
   "metadata": {},
   "outputs": [],
   "source": [
    "l"
   ]
  },
  {
   "cell_type": "code",
   "execution_count": null,
   "id": "9e0e78e8-3801-4386-ab27-322854e4d13a",
   "metadata": {},
   "outputs": [],
   "source": [
    "l.pop() "
   ]
  },
  {
   "cell_type": "code",
   "execution_count": null,
   "id": "5c8aa046-7137-4de3-ba5d-2f5f447b5458",
   "metadata": {},
   "outputs": [],
   "source": [
    "l"
   ]
  },
  {
   "cell_type": "code",
   "execution_count": null,
   "id": "2676ee06-f994-425c-a1e7-66ebfa0b57d4",
   "metadata": {},
   "outputs": [],
   "source": [
    "print(l1)"
   ]
  },
  {
   "cell_type": "code",
   "execution_count": null,
   "id": "03e97b9d-6632-4eea-9ca8-ec4277a9aea6",
   "metadata": {},
   "outputs": [],
   "source": [
    "l1.remove((1+2j))"
   ]
  },
  {
   "cell_type": "code",
   "execution_count": null,
   "id": "62187f90-86f1-4e80-8b99-95b5b961d2e0",
   "metadata": {},
   "outputs": [],
   "source": [
    "l1"
   ]
  },
  {
   "cell_type": "code",
   "execution_count": null,
   "id": "354edc8e-1603-4f86-a695-c6a1dfaf3be4",
   "metadata": {},
   "outputs": [],
   "source": [
    "l1.remove('ten')"
   ]
  },
  {
   "cell_type": "code",
   "execution_count": null,
   "id": "4de2dbc2-1e46-47d9-b053-5e7415ee579d",
   "metadata": {},
   "outputs": [],
   "source": [
    "l1"
   ]
  },
  {
   "cell_type": "code",
   "execution_count": null,
   "id": "d74aa10d-721d-4ee9-93ed-9cf34ae74213",
   "metadata": {},
   "outputs": [],
   "source": [
    "l1.pop(True) "
   ]
  },
  {
   "cell_type": "code",
   "execution_count": null,
   "id": "1771ab19-7934-40ec-ba2f-e0154fff39c9",
   "metadata": {},
   "outputs": [],
   "source": [
    "l1"
   ]
  },
  {
   "cell_type": "code",
   "execution_count": null,
   "id": "916959b6-4975-4043-a94d-96d8c41a59b0",
   "metadata": {},
   "outputs": [],
   "source": [
    "l1"
   ]
  },
  {
   "cell_type": "code",
   "execution_count": null,
   "id": "2c99df43-ddb4-4722-b153-48aca79a674b",
   "metadata": {},
   "outputs": [],
   "source": [
    "l1.pop('jan')"
   ]
  },
  {
   "cell_type": "code",
   "execution_count": null,
   "id": "93517984-12cf-460a-bb39-209dba44ee68",
   "metadata": {},
   "outputs": [],
   "source": [
    "l1.remove('jan')"
   ]
  },
  {
   "cell_type": "code",
   "execution_count": null,
   "id": "a83711d4-2586-4164-8d23-c7887e7ee7d4",
   "metadata": {},
   "outputs": [],
   "source": [
    "l1"
   ]
  },
  {
   "cell_type": "code",
   "execution_count": null,
   "id": "7dfcf5e0-32d1-4f1f-95ca-8cafefaeedd3",
   "metadata": {},
   "outputs": [],
   "source": [
    "l1.pop(5)"
   ]
  },
  {
   "cell_type": "code",
   "execution_count": null,
   "id": "9a241d0b-649d-47d6-949a-97ed375a3ddf",
   "metadata": {},
   "outputs": [],
   "source": [
    "l1"
   ]
  },
  {
   "cell_type": "code",
   "execution_count": null,
   "id": "5a2c2b73-71fc-4977-9878-185d4b7804da",
   "metadata": {},
   "outputs": [],
   "source": [
    "l3 = [100, 2, 39,34, 20,1000] \n",
    "l3"
   ]
  },
  {
   "cell_type": "code",
   "execution_count": null,
   "id": "69a842a4-ad35-4b6b-ba22-830649fe59bd",
   "metadata": {},
   "outputs": [],
   "source": [
    "l3.sort(reverse=True) # hyperparameter "
   ]
  },
  {
   "cell_type": "code",
   "execution_count": null,
   "id": "0140c2cd-e091-4713-91f2-3dc7a72548b7",
   "metadata": {},
   "outputs": [],
   "source": [
    "l3"
   ]
  },
  {
   "cell_type": "code",
   "execution_count": null,
   "id": "7c3f6ae2-64e5-4c27-a054-531e09667845",
   "metadata": {},
   "outputs": [],
   "source": [
    "l3.sort()  # parameter "
   ]
  },
  {
   "cell_type": "code",
   "execution_count": null,
   "id": "43d05d7e-10a2-48a0-b6ae-31eea75d48d9",
   "metadata": {},
   "outputs": [],
   "source": [
    "l3"
   ]
  },
  {
   "cell_type": "code",
   "execution_count": null,
   "id": "246e5977-2e5d-4be2-a92b-ebceb67c8cd9",
   "metadata": {},
   "outputs": [],
   "source": [
    "l4 = [2, 2.3, True, 'ten', 1+2j]\n",
    "l4"
   ]
  },
  {
   "cell_type": "code",
   "execution_count": null,
   "id": "37df9a7c-c95b-4b5a-831d-047c99bdc79b",
   "metadata": {},
   "outputs": [],
   "source": [
    "l4.sort()"
   ]
  },
  {
   "cell_type": "code",
   "execution_count": null,
   "id": "bd1c5ace-6646-4b8d-b8a7-86252c608b7f",
   "metadata": {},
   "outputs": [],
   "source": [
    "l5 = ['m', 'b', 'z', 'a']\n",
    "l5"
   ]
  },
  {
   "cell_type": "code",
   "execution_count": null,
   "id": "2af7ba31-3214-4e01-b43f-73fea118a7ff",
   "metadata": {},
   "outputs": [],
   "source": [
    "l5.sort()"
   ]
  },
  {
   "cell_type": "code",
   "execution_count": null,
   "id": "81fad023-6470-4101-bfc3-d9329b20d472",
   "metadata": {},
   "outputs": [],
   "source": [
    "l5"
   ]
  },
  {
   "cell_type": "code",
   "execution_count": null,
   "id": "56785fed-eca2-4658-ac79-b0c0ae0f6354",
   "metadata": {},
   "outputs": [],
   "source": [
    "l5.sort(reverse=True)"
   ]
  },
  {
   "cell_type": "code",
   "execution_count": null,
   "id": "aafd868b-d415-42e5-86af-f054506c509c",
   "metadata": {},
   "outputs": [],
   "source": [
    "l5"
   ]
  },
  {
   "cell_type": "code",
   "execution_count": null,
   "id": "f62c7496-b4a7-4683-836b-a2015c82271c",
   "metadata": {},
   "outputs": [],
   "source": [
    "l1"
   ]
  },
  {
   "cell_type": "code",
   "execution_count": null,
   "id": "098a3494-5c93-42db-aa08-b467bea89a4a",
   "metadata": {},
   "outputs": [],
   "source": [
    "l1.reverse()"
   ]
  },
  {
   "cell_type": "code",
   "execution_count": null,
   "id": "e1a8962f-bd60-4c6e-bb62-d3098df50934",
   "metadata": {},
   "outputs": [],
   "source": [
    "l1"
   ]
  },
  {
   "cell_type": "code",
   "execution_count": null,
   "id": "4347ac45-3ea3-4c0c-80ce-b85cc3e0b6ad",
   "metadata": {},
   "outputs": [],
   "source": [
    "l"
   ]
  },
  {
   "cell_type": "code",
   "execution_count": null,
   "id": "ac1421d2-f8b9-44ac-bbda-2e2260e56f81",
   "metadata": {},
   "outputs": [],
   "source": [
    "print(l[0])\n",
    "print(l[1])\n",
    "print(l[2])\n",
    "print(l[3])\n",
    "print(l[4])\n",
    "print(l[5])\n",
    "print(l[6])\n",
    "print(l[7])\n",
    "print(l[8])\n",
    "print(l[9])"
   ]
  },
  {
   "cell_type": "code",
   "execution_count": null,
   "id": "3635971d-f993-4254-80cd-b85580f0febc",
   "metadata": {},
   "outputs": [],
   "source": [
    "l"
   ]
  },
  {
   "cell_type": "code",
   "execution_count": null,
   "id": "dd1f1a16-c6e3-4686-b74e-e228d2bd761e",
   "metadata": {},
   "outputs": [],
   "source": [
    "for i in l:\n",
    "    for j in l1:\n",
    "        \n",
    "    print(i)"
   ]
  },
  {
   "cell_type": "code",
   "execution_count": null,
   "id": "daf2ae5e-0e84-4321-987a-7d9bf882c04c",
   "metadata": {},
   "outputs": [],
   "source": [
    "l"
   ]
  },
  {
   "cell_type": "code",
   "execution_count": null,
   "id": "2aba35c5-d9c7-437e-a91b-625fe33b5819",
   "metadata": {},
   "outputs": [],
   "source": [
    "l[6]"
   ]
  },
  {
   "cell_type": "code",
   "execution_count": null,
   "id": "e9666e69-8111-4f8d-8cc0-ea6e96027b66",
   "metadata": {},
   "outputs": [],
   "source": [
    "print(l[6][0])\n",
    "print(l[6][1])\n",
    "print(l[6][2])"
   ]
  },
  {
   "cell_type": "code",
   "execution_count": null,
   "id": "abfefc08-6c5e-49fb-b52b-a6acb8e2e851",
   "metadata": {},
   "outputs": [],
   "source": [
    "l3"
   ]
  },
  {
   "cell_type": "code",
   "execution_count": null,
   "id": "513ec1b2-b504-46d1-90d8-3b26428fac84",
   "metadata": {},
   "outputs": [],
   "source": [
    "for i in l3:\n",
    "    print(i)"
   ]
  },
  {
   "cell_type": "code",
   "execution_count": null,
   "id": "70117cdc-a667-417e-a044-3ef15325773f",
   "metadata": {},
   "outputs": [],
   "source": [
    "for i in enumerate(l3):\n",
    "    print(i)"
   ]
  },
  {
   "cell_type": "code",
   "execution_count": null,
   "id": "762a7b3c-4902-4d55-8721-19d2dd5221f5",
   "metadata": {},
   "outputs": [],
   "source": [
    "L1 = [1,2,3,4,0] "
   ]
  },
  {
   "cell_type": "code",
   "execution_count": null,
   "id": "6ced7e25-1755-42c4-9d74-78a5d6620ff7",
   "metadata": {},
   "outputs": [],
   "source": [
    "all(L1)"
   ]
  },
  {
   "cell_type": "code",
   "execution_count": null,
   "id": "cba38f85-f8ed-4079-8616-a6b36677a7ce",
   "metadata": {},
   "outputs": [],
   "source": [
    "any(L1)"
   ]
  },
  {
   "cell_type": "code",
   "execution_count": null,
   "id": "8302325e-97ce-45ac-a0e6-15bb5d074743",
   "metadata": {},
   "outputs": [],
   "source": [
    "L2 = [1,2,3,4] "
   ]
  },
  {
   "cell_type": "code",
   "execution_count": null,
   "id": "2cb029c3-9d3f-44b0-b386-18f94df24378",
   "metadata": {},
   "outputs": [],
   "source": [
    "all(L2)"
   ]
  },
  {
   "cell_type": "code",
   "execution_count": null,
   "id": "a7ed63d4-ecf5-4138-94ba-d3c99054b669",
   "metadata": {},
   "outputs": [],
   "source": [
    "any(L2)"
   ]
  },
  {
   "cell_type": "markdown",
   "id": "a848c054-8977-47d0-8c00-81bcdd2e995e",
   "metadata": {},
   "source": [
    "# tuple"
   ]
  },
  {
   "cell_type": "code",
   "execution_count": null,
   "id": "44b154d5-2f0d-463f-a1df-f48576fbed6b",
   "metadata": {},
   "outputs": [],
   "source": [
    "t = ()\n",
    "t"
   ]
  },
  {
   "cell_type": "code",
   "execution_count": null,
   "id": "a231711f-c101-458b-9013-8171b09848e5",
   "metadata": {},
   "outputs": [],
   "source": [
    "type(t)"
   ]
  },
  {
   "cell_type": "code",
   "execution_count": null,
   "id": "dc23b51c-a9aa-4112-b100-551338a44f64",
   "metadata": {},
   "outputs": [],
   "source": [
    "t = (10,20,30)\n",
    "t"
   ]
  },
  {
   "cell_type": "code",
   "execution_count": null,
   "id": "05904d09-4805-429d-9963-090941521a66",
   "metadata": {},
   "outputs": [],
   "source": [
    "t.count(20)"
   ]
  },
  {
   "cell_type": "code",
   "execution_count": null,
   "id": "a1da48d3-cf09-4f65-8f23-f53448eb61f1",
   "metadata": {},
   "outputs": [],
   "source": [
    "t1 = (10,20,2.2,'ten', True, 1+2j,20) \n",
    "t1"
   ]
  },
  {
   "cell_type": "code",
   "execution_count": null,
   "id": "1c876b5e-17ec-428d-b039-311478f27bbd",
   "metadata": {},
   "outputs": [],
   "source": [
    "t1.count(20) "
   ]
  },
  {
   "cell_type": "code",
   "execution_count": null,
   "id": "5b727c46-b24b-41d4-845b-b518de7f133f",
   "metadata": {},
   "outputs": [],
   "source": [
    "t1.index(20)"
   ]
  },
  {
   "cell_type": "code",
   "execution_count": null,
   "id": "0c9a9f35-4a9d-4567-937e-a52af6ceacea",
   "metadata": {},
   "outputs": [],
   "source": [
    "print(t)\n",
    "print(t1)"
   ]
  },
  {
   "cell_type": "code",
   "execution_count": null,
   "id": "1a44cbd0-1ec9-4fa6-a55c-3aeb700b95ee",
   "metadata": {},
   "outputs": [],
   "source": [
    "print(len(t))\n",
    "print(len(t1))"
   ]
  },
  {
   "cell_type": "code",
   "execution_count": null,
   "id": "858c2f7a-7dd7-4c1a-8153-4bc9b05b509e",
   "metadata": {},
   "outputs": [],
   "source": [
    "t"
   ]
  },
  {
   "cell_type": "code",
   "execution_count": null,
   "id": "00c41b15-23de-4cf7-992b-9d5e81b9dec2",
   "metadata": {},
   "outputs": [],
   "source": [
    "t[0]"
   ]
  },
  {
   "cell_type": "code",
   "execution_count": null,
   "id": "a690d529-6c55-435c-829d-f966d621ed82",
   "metadata": {},
   "outputs": [],
   "source": [
    "t[0] = 100 "
   ]
  },
  {
   "cell_type": "code",
   "execution_count": null,
   "id": "96bf08e9-7ced-4cb9-a5af-1e27266cc7f6",
   "metadata": {},
   "outputs": [],
   "source": [
    "bank_account = (1234, 'cizp45yi', 10000)\n",
    "bank_account"
   ]
  },
  {
   "cell_type": "code",
   "execution_count": null,
   "id": "9e4b354b-87c7-4757-951d-1d03192a1acc",
   "metadata": {},
   "outputs": [],
   "source": [
    "bank_account[2] = 200000"
   ]
  },
  {
   "cell_type": "code",
   "execution_count": null,
   "id": "12ff6539-6549-40b2-bfd6-4e2e3a5e9912",
   "metadata": {},
   "outputs": [],
   "source": [
    "t"
   ]
  },
  {
   "cell_type": "code",
   "execution_count": null,
   "id": "e9a95c53-6c41-4a1b-8bd4-22819c80b67b",
   "metadata": {},
   "outputs": [],
   "source": [
    "t2 = t * 3\n",
    "t2"
   ]
  },
  {
   "cell_type": "code",
   "execution_count": null,
   "id": "fb7470d5-8cdc-4e08-8f91-1b24d5727882",
   "metadata": {},
   "outputs": [],
   "source": [
    "t"
   ]
  },
  {
   "cell_type": "code",
   "execution_count": null,
   "id": "9e0201c5-4e76-4611-bccf-fc6341c2f895",
   "metadata": {},
   "outputs": [],
   "source": [
    "for i in t:\n",
    "    print(i)"
   ]
  },
  {
   "cell_type": "code",
   "execution_count": null,
   "id": "cf376bc3-ad7b-43ac-ac19-50eebe867af0",
   "metadata": {},
   "outputs": [],
   "source": [
    "for i in enumerate(t):\n",
    "    print(i)"
   ]
  },
  {
   "cell_type": "markdown",
   "id": "5d26573d-c488-4688-a73c-41dc09516283",
   "metadata": {},
   "source": [
    "# list\n",
    "- mutable\n",
    "- duplicate is allowed\n",
    "- append(), copy(), insert(), extend(), pop()\n",
    "- remove the element\n",
    "- list is growable\n",
    "- multiple data type in a list\n",
    "- indexing & slicing is allowed\n",
    "\n",
    "# Tuple\n",
    "- immutable ( unchangeable)\n",
    "- duplication is allowed\n",
    "- remove is not allowed\n",
    "- only 2 function will work (.index, .count)\n"
   ]
  },
  {
   "cell_type": "markdown",
   "id": "2d704df1-616b-46f3-9536-5187d712f4c0",
   "metadata": {},
   "source": [
    "# Set"
   ]
  },
  {
   "cell_type": "code",
   "execution_count": null,
   "id": "c705e196-cf8e-4954-b063-93de4afca294",
   "metadata": {},
   "outputs": [],
   "source": [
    "s = {} \n",
    "s"
   ]
  },
  {
   "cell_type": "code",
   "execution_count": null,
   "id": "f73fc923-87a5-484c-93df-5092a4a29f4c",
   "metadata": {},
   "outputs": [],
   "source": [
    "type(s)"
   ]
  },
  {
   "cell_type": "code",
   "execution_count": null,
   "id": "45be3195-7146-488b-b52a-585e2417bebb",
   "metadata": {},
   "outputs": [],
   "source": [
    "s1 = set()\n",
    "s1"
   ]
  },
  {
   "cell_type": "code",
   "execution_count": null,
   "id": "713cf95b-9918-4e99-b87e-e43e6d5af718",
   "metadata": {},
   "outputs": [],
   "source": [
    "s2 = {90, 10, 50, 40, 25, 10, 50 } \n",
    "s2"
   ]
  },
  {
   "cell_type": "code",
   "execution_count": null,
   "id": "b9af95e0-f50d-44c6-a9be-0aebdfa6c75e",
   "metadata": {},
   "outputs": [],
   "source": [
    "type(s2)"
   ]
  },
  {
   "cell_type": "code",
   "execution_count": null,
   "id": "8494b68c-5170-4efc-8ae0-e14c1f87f4b0",
   "metadata": {},
   "outputs": [],
   "source": [
    "s2"
   ]
  },
  {
   "cell_type": "code",
   "execution_count": null,
   "id": "f5cc7436-d871-4d18-9e0f-3df0ee663a23",
   "metadata": {},
   "outputs": [],
   "source": [
    "s3 = s2.copy()\n",
    "s3"
   ]
  },
  {
   "cell_type": "code",
   "execution_count": null,
   "id": "75c97a31-7a1e-48d2-bd93-c19dd7c29c90",
   "metadata": {},
   "outputs": [],
   "source": [
    "s3"
   ]
  },
  {
   "cell_type": "code",
   "execution_count": null,
   "id": "99ab4cea-e796-45cb-9544-de488b2c4b87",
   "metadata": {},
   "outputs": [],
   "source": [
    "s3.add(3.4)"
   ]
  },
  {
   "cell_type": "code",
   "execution_count": null,
   "id": "975249de-94e8-4ed5-8459-b760e8c9b5dc",
   "metadata": {},
   "outputs": [],
   "source": [
    "s3"
   ]
  },
  {
   "cell_type": "code",
   "execution_count": null,
   "id": "43d40371-ad35-4ba1-a4c2-3afbbc804798",
   "metadata": {},
   "outputs": [],
   "source": [
    "s3.add('nit')"
   ]
  },
  {
   "cell_type": "code",
   "execution_count": null,
   "id": "e68e13b1-bb1b-4031-8bf1-39609f67b233",
   "metadata": {},
   "outputs": [],
   "source": [
    "s3"
   ]
  },
  {
   "cell_type": "code",
   "execution_count": null,
   "id": "839b2ffc-dd4d-4c53-a924-dfb56ec29713",
   "metadata": {},
   "outputs": [],
   "source": [
    "s3.add(1+2j)\n",
    "s3.add(True)"
   ]
  },
  {
   "cell_type": "code",
   "execution_count": null,
   "id": "2e9f37d3-44b6-4038-a0a6-6aa7993677b3",
   "metadata": {},
   "outputs": [],
   "source": [
    "s3"
   ]
  },
  {
   "cell_type": "code",
   "execution_count": null,
   "id": "542eb534-efb7-410e-add7-4c2ec73c5882",
   "metadata": {},
   "outputs": [],
   "source": [
    "print(s)\n",
    "print(s1)\n",
    "print(s2)\n",
    "print(s3)"
   ]
  },
  {
   "cell_type": "code",
   "execution_count": null,
   "id": "801b39c3-dd38-479e-bf98-cc5e6c57cb56",
   "metadata": {},
   "outputs": [],
   "source": [
    "s"
   ]
  },
  {
   "cell_type": "code",
   "execution_count": null,
   "id": "93b62dd9-6863-44ea-b36a-414fa9cd6990",
   "metadata": {},
   "outputs": [],
   "source": [
    "type(s)"
   ]
  },
  {
   "cell_type": "code",
   "execution_count": null,
   "id": "7e024191-a574-40d9-b8c9-8678d9cd7237",
   "metadata": {},
   "outputs": [],
   "source": [
    "s2"
   ]
  },
  {
   "cell_type": "code",
   "execution_count": null,
   "id": "863d4b67-c5be-403c-a6ed-9c966e3e4393",
   "metadata": {},
   "outputs": [],
   "source": [
    "s3"
   ]
  },
  {
   "cell_type": "code",
   "execution_count": null,
   "id": "72e415b0-f861-41d7-b12d-6f5b57cfdf23",
   "metadata": {},
   "outputs": [],
   "source": [
    "s3.remove(1+2j)"
   ]
  },
  {
   "cell_type": "code",
   "execution_count": null,
   "id": "1b618724-1f3a-4044-a8d2-74ee5a1900c0",
   "metadata": {},
   "outputs": [],
   "source": [
    "s3"
   ]
  },
  {
   "cell_type": "code",
   "execution_count": null,
   "id": "91eb08ec-bc3e-4ff1-88ad-07f4d3b14daf",
   "metadata": {},
   "outputs": [],
   "source": [
    "s3.remove(2000) "
   ]
  },
  {
   "cell_type": "code",
   "execution_count": null,
   "id": "9510fde1-b973-4912-a90f-937f00fafa6c",
   "metadata": {},
   "outputs": [],
   "source": [
    "s3"
   ]
  },
  {
   "cell_type": "code",
   "execution_count": null,
   "id": "ac3a2273-c33c-4cee-bf17-675f7e335074",
   "metadata": {},
   "outputs": [],
   "source": [
    "s3.discard(10)"
   ]
  },
  {
   "cell_type": "code",
   "execution_count": null,
   "id": "90c531e6-3d16-434c-86df-424064fb387c",
   "metadata": {},
   "outputs": [],
   "source": [
    "s3"
   ]
  },
  {
   "cell_type": "code",
   "execution_count": null,
   "id": "51cdfa9d-a7bb-49ae-b567-907b74d5512c",
   "metadata": {},
   "outputs": [],
   "source": [
    "s3.discard(2000)"
   ]
  },
  {
   "cell_type": "code",
   "execution_count": null,
   "id": "b2c9cb84-2285-47c0-b8f7-852d16f0dcbf",
   "metadata": {},
   "outputs": [],
   "source": [
    "s3"
   ]
  },
  {
   "cell_type": "code",
   "execution_count": null,
   "id": "c04e79df-b821-45da-af86-79f21be6c796",
   "metadata": {},
   "outputs": [],
   "source": [
    "s3.pop()"
   ]
  },
  {
   "cell_type": "code",
   "execution_count": null,
   "id": "e8aa8171-1dbe-4cc4-81e1-59df2d099fc4",
   "metadata": {},
   "outputs": [],
   "source": [
    "s3"
   ]
  },
  {
   "cell_type": "code",
   "execution_count": null,
   "id": "57b1db70-3094-470d-929d-a1cef1e2411a",
   "metadata": {},
   "outputs": [],
   "source": [
    "s3.pop()"
   ]
  },
  {
   "cell_type": "code",
   "execution_count": null,
   "id": "4299ab2c-2ddc-4263-9fca-ac8e68af6e1d",
   "metadata": {},
   "outputs": [],
   "source": [
    "s3"
   ]
  },
  {
   "cell_type": "code",
   "execution_count": null,
   "id": "a6b255ed-9bdd-4873-935c-5e1cee986085",
   "metadata": {},
   "outputs": [],
   "source": [
    "s3.pop(0)"
   ]
  },
  {
   "cell_type": "code",
   "execution_count": null,
   "id": "6b9b1f7d-3a22-4cf5-81fc-10ee81cf2b5e",
   "metadata": {},
   "outputs": [],
   "source": [
    "s3"
   ]
  },
  {
   "cell_type": "code",
   "execution_count": null,
   "id": "cd34eb5b-0ae5-4bad-8eb5-c67e09733a6b",
   "metadata": {},
   "outputs": [],
   "source": [
    "s3[:] "
   ]
  },
  {
   "cell_type": "code",
   "execution_count": null,
   "id": "a396b383-9b66-487d-a503-d178e37813f1",
   "metadata": {},
   "outputs": [],
   "source": [
    "s3"
   ]
  },
  {
   "cell_type": "code",
   "execution_count": null,
   "id": "5b153839-83b2-4dd4-8aca-f92970b04f70",
   "metadata": {},
   "outputs": [],
   "source": [
    "s3[1:]"
   ]
  },
  {
   "cell_type": "code",
   "execution_count": null,
   "id": "21aeeef8-e2a3-4cb4-9c06-9c4c25f8695e",
   "metadata": {},
   "outputs": [],
   "source": [
    "s3"
   ]
  },
  {
   "cell_type": "code",
   "execution_count": null,
   "id": "66ef277b-b1c4-411e-a703-3826e5d74cb8",
   "metadata": {},
   "outputs": [],
   "source": [
    "s3[2]"
   ]
  },
  {
   "cell_type": "code",
   "execution_count": null,
   "id": "6fd177b2-78a5-4953-a0e6-3b288ff648f2",
   "metadata": {},
   "outputs": [],
   "source": [
    "s3"
   ]
  },
  {
   "cell_type": "code",
   "execution_count": null,
   "id": "45982b7b-cdbe-4707-8ec4-372ad086a28d",
   "metadata": {},
   "outputs": [],
   "source": [
    "s3.pop(0)"
   ]
  },
  {
   "cell_type": "code",
   "execution_count": null,
   "id": "d74b6dbb-4a49-47d1-a23e-d0b4131b83d3",
   "metadata": {},
   "outputs": [],
   "source": [
    "s3.pop()"
   ]
  },
  {
   "cell_type": "code",
   "execution_count": null,
   "id": "9ac5661c-ad25-4cf7-8700-7eeb96abd5c0",
   "metadata": {},
   "outputs": [],
   "source": [
    "s3"
   ]
  },
  {
   "cell_type": "code",
   "execution_count": null,
   "id": "cffb39ff-c0e2-4522-acd5-b4bb1e0f4ea3",
   "metadata": {},
   "outputs": [],
   "source": [
    "40 in s3"
   ]
  },
  {
   "cell_type": "markdown",
   "id": "c971a6e3-c82e-464b-849c-76d7eebcae34",
   "metadata": {},
   "source": [
    "# set operation "
   ]
  },
  {
   "cell_type": "code",
   "execution_count": 9,
   "id": "9102867f-2a40-4855-adc9-8b8bb851e9b1",
   "metadata": {},
   "outputs": [],
   "source": [
    "a = {1,2,3,4,5}\n",
    "b = {4,5,6,7,8}\n",
    "c = {8,9,10}"
   ]
  },
  {
   "cell_type": "code",
   "execution_count": null,
   "id": "27e13274-8f3f-4a32-86b0-f812791e7190",
   "metadata": {},
   "outputs": [],
   "source": [
    "type(c)"
   ]
  },
  {
   "cell_type": "code",
   "execution_count": null,
   "id": "3d37d62d-cf19-4bfc-b341-5b6e6ea76910",
   "metadata": {},
   "outputs": [],
   "source": [
    "a.union(b) "
   ]
  },
  {
   "cell_type": "code",
   "execution_count": null,
   "id": "59667bb1-602a-4c69-9487-0ae8ffb139f0",
   "metadata": {},
   "outputs": [],
   "source": [
    "a.union(b, c)  "
   ]
  },
  {
   "cell_type": "code",
   "execution_count": null,
   "id": "d5db4cb5-2454-424f-b864-7801ddc60319",
   "metadata": {},
   "outputs": [],
   "source": [
    "print(a)\n",
    "print(b)\n",
    "print(c)"
   ]
  },
  {
   "cell_type": "code",
   "execution_count": null,
   "id": "e97cc72d-a243-4d65-80a7-0a82f6b6d0fc",
   "metadata": {},
   "outputs": [],
   "source": [
    "a | b "
   ]
  },
  {
   "cell_type": "code",
   "execution_count": null,
   "id": "9803a1ad-ab8d-4851-bb89-177d75db3783",
   "metadata": {},
   "outputs": [],
   "source": [
    "b | c"
   ]
  },
  {
   "cell_type": "code",
   "execution_count": null,
   "id": "322059df-19c2-4e69-9069-183e0e599ced",
   "metadata": {},
   "outputs": [],
   "source": [
    "a | b | c"
   ]
  },
  {
   "cell_type": "code",
   "execution_count": null,
   "id": "e8a28dfe-21bf-4091-80e7-4a70f4710f38",
   "metadata": {},
   "outputs": [],
   "source": [
    "a | c"
   ]
  },
  {
   "cell_type": "code",
   "execution_count": null,
   "id": "3817ab3a-dfeb-4f9f-93d8-a3469cb59c78",
   "metadata": {},
   "outputs": [],
   "source": [
    "a | c | b "
   ]
  },
  {
   "cell_type": "markdown",
   "id": "cc982ddb-7964-4f38-9d63-f58a26530806",
   "metadata": {},
   "source": [
    "# intersection"
   ]
  },
  {
   "cell_type": "code",
   "execution_count": null,
   "id": "adcb09ce-e7be-456a-b570-0cced8ae77e7",
   "metadata": {},
   "outputs": [],
   "source": [
    "a = {1,2,3,4,5}\n",
    "b = {4,5,6,7,8}\n",
    "c = {8,9,10}"
   ]
  },
  {
   "cell_type": "code",
   "execution_count": null,
   "id": "90af5b65-6509-4556-ac23-80272dadecdb",
   "metadata": {},
   "outputs": [],
   "source": [
    "a.intersection(b)"
   ]
  },
  {
   "cell_type": "code",
   "execution_count": null,
   "id": "5f7985d2-1827-4730-a8d3-72923982b2e7",
   "metadata": {},
   "outputs": [],
   "source": [
    "b.intersection(c)"
   ]
  },
  {
   "cell_type": "code",
   "execution_count": null,
   "id": "b5354ad5-d92a-4034-a316-3ebbbc2f7bd4",
   "metadata": {},
   "outputs": [],
   "source": [
    "a & b"
   ]
  },
  {
   "cell_type": "code",
   "execution_count": null,
   "id": "1c82ab38-7674-43f4-be48-90396c958f98",
   "metadata": {},
   "outputs": [],
   "source": [
    "b & c"
   ]
  },
  {
   "cell_type": "markdown",
   "id": "6aa9406b-50ea-47a7-9d90-1f53bad86bbb",
   "metadata": {},
   "source": [
    "# Differnece"
   ]
  },
  {
   "cell_type": "code",
   "execution_count": null,
   "id": "478a65d7-2833-4624-8248-a5208882582d",
   "metadata": {},
   "outputs": [],
   "source": [
    "a = {1,2,3,4,5}\n",
    "b = {4,5,6,7,8}\n",
    "c = {8,9,10}"
   ]
  },
  {
   "cell_type": "code",
   "execution_count": null,
   "id": "c940a433-916c-42ee-9568-6146847706a3",
   "metadata": {},
   "outputs": [],
   "source": [
    "a.difference(b) "
   ]
  },
  {
   "cell_type": "code",
   "execution_count": null,
   "id": "23a15614-3878-4ff5-b2da-d17c5f88a252",
   "metadata": {},
   "outputs": [],
   "source": [
    "b.difference(a) "
   ]
  },
  {
   "cell_type": "code",
   "execution_count": null,
   "id": "9734d873-d0ec-4667-b86b-b3f67867c00c",
   "metadata": {},
   "outputs": [],
   "source": [
    "a = {1,2,3,4,5}\n",
    "b = {4,5,6,7,8}\n",
    "c = {8,9,10}"
   ]
  },
  {
   "cell_type": "code",
   "execution_count": null,
   "id": "87a3fdff-3326-4185-a0a5-6a3cd452e45f",
   "metadata": {},
   "outputs": [],
   "source": [
    "b - c"
   ]
  },
  {
   "cell_type": "code",
   "execution_count": null,
   "id": "ede84a41-af60-48b3-887d-1cc23b12ae9a",
   "metadata": {},
   "outputs": [],
   "source": [
    "c - b"
   ]
  },
  {
   "cell_type": "code",
   "execution_count": null,
   "id": "68bd50f4-a6b6-4a82-a0c6-00e25bd2895e",
   "metadata": {},
   "outputs": [],
   "source": [
    "a - b - c"
   ]
  },
  {
   "cell_type": "code",
   "execution_count": 10,
   "id": "0ad2bd1c-abdb-46a8-953e-95a3a72d5d62",
   "metadata": {},
   "outputs": [
    {
     "name": "stdout",
     "output_type": "stream",
     "text": [
      "{1, 2, 3, 4, 5}\n",
      "{4, 5, 6, 7, 8}\n",
      "{8, 9, 10}\n"
     ]
    }
   ],
   "source": [
    "print(a)\n",
    "print(b)\n",
    "print(c)"
   ]
  },
  {
   "cell_type": "code",
   "execution_count": 14,
   "id": "899dcdb4-8943-48fe-b709-5f4258a12bc8",
   "metadata": {},
   "outputs": [
    {
     "data": {
      "text/plain": [
       "{1, 2, 3, 6, 7, 8}"
      ]
     },
     "execution_count": 14,
     "metadata": {},
     "output_type": "execute_result"
    }
   ],
   "source": [
    "a.symmetric_difference(b)"
   ]
  },
  {
   "cell_type": "code",
   "execution_count": 15,
   "id": "5ae1fe0c-1adf-4daf-aac0-beb655b94251",
   "metadata": {},
   "outputs": [
    {
     "data": {
      "text/plain": [
       "{4, 5, 6, 7, 9, 10}"
      ]
     },
     "execution_count": 15,
     "metadata": {},
     "output_type": "execute_result"
    }
   ],
   "source": [
    "b^c "
   ]
  },
  {
   "cell_type": "code",
   "execution_count": null,
   "id": "195ca35a-361b-4fbb-a0c5-9e7944d5a23b",
   "metadata": {},
   "outputs": [],
   "source": [
    "print(a)\n",
    "print(b)\n",
    "print(c)"
   ]
  },
  {
   "cell_type": "code",
   "execution_count": null,
   "id": "d12473c0-a870-4b20-a40b-d7ef9f381e56",
   "metadata": {},
   "outputs": [],
   "source": [
    "a^c"
   ]
  },
  {
   "cell_type": "code",
   "execution_count": 17,
   "id": "c9118d74-8b16-4469-91e3-1df0d3d5259c",
   "metadata": {},
   "outputs": [
    {
     "name": "stdout",
     "output_type": "stream",
     "text": [
      "{1, 2, 3, 6, 7, 8}\n",
      "{4, 5, 6, 7, 8}\n",
      "{8, 9, 10}\n"
     ]
    }
   ],
   "source": [
    "print(a)\n",
    "print(b)\n",
    "print(c)"
   ]
  },
  {
   "cell_type": "code",
   "execution_count": 18,
   "id": "45372dde-ffc5-470d-b3c3-040fb164995e",
   "metadata": {},
   "outputs": [],
   "source": [
    "a.symmetric_difference_update(b)"
   ]
  },
  {
   "cell_type": "code",
   "execution_count": 19,
   "id": "05f0c1d8-2350-495a-87df-1689a02395c5",
   "metadata": {},
   "outputs": [
    {
     "data": {
      "text/plain": [
       "{1, 2, 3, 4, 5}"
      ]
     },
     "execution_count": 19,
     "metadata": {},
     "output_type": "execute_result"
    }
   ],
   "source": [
    "a"
   ]
  },
  {
   "cell_type": "code",
   "execution_count": null,
   "id": "0b8ee9a1-ca50-4aa5-8427-6ffd0286fb36",
   "metadata": {},
   "outputs": [],
   "source": [
    "print(a)\n",
    "print(b)\n",
    "print(c)"
   ]
  },
  {
   "cell_type": "markdown",
   "id": "13504984-8eeb-4699-a4f8-0cf48847b76b",
   "metadata": {},
   "source": [
    "# superset, subset, disjoint "
   ]
  },
  {
   "cell_type": "code",
   "execution_count": 20,
   "id": "a887300c-afdf-4af8-9331-ff21fb04ebfc",
   "metadata": {},
   "outputs": [],
   "source": [
    "s4 = {1,2,3,4,5,6,7,8,9}\n",
    "s5 = {3,4,5,6,7,8}\n",
    "s6 = {10,20,30,40}"
   ]
  },
  {
   "cell_type": "code",
   "execution_count": 24,
   "id": "88a31630-b40f-4eeb-8c96-1ac7e6cd71e7",
   "metadata": {},
   "outputs": [
    {
     "name": "stdout",
     "output_type": "stream",
     "text": [
      "True\n",
      "False\n",
      "True\n"
     ]
    }
   ],
   "source": [
    "print(s4.issuperset(s5))\n",
    "print(s4.issuperset(s6))\n",
    "print(s5.issubset(s4))"
   ]
  },
  {
   "cell_type": "code",
   "execution_count": null,
   "id": "f822349d-d936-4be3-b04d-820c78057e25",
   "metadata": {},
   "outputs": [],
   "source": [
    "s5.issubset(s4) "
   ]
  },
  {
   "cell_type": "code",
   "execution_count": null,
   "id": "da2660cf-a38a-4c0f-b7cc-518102e3446b",
   "metadata": {},
   "outputs": [],
   "source": [
    "s6.isdisjoint(s4)"
   ]
  },
  {
   "cell_type": "code",
   "execution_count": null,
   "id": "1009a818-dc16-49bc-b459-29d289a73667",
   "metadata": {},
   "outputs": [],
   "source": [
    "s4 = {1,2,3,4,5,6,7,8,9}\n",
    "s5 = {3,4,5,6,7,8}\n",
    "s6 = {10,20,30,40}"
   ]
  },
  {
   "cell_type": "code",
   "execution_count": 25,
   "id": "6c51bba2-8216-47a5-881a-f9d1a88729bb",
   "metadata": {},
   "outputs": [
    {
     "data": {
      "text/plain": [
       "False"
      ]
     },
     "execution_count": 25,
     "metadata": {},
     "output_type": "execute_result"
    }
   ],
   "source": [
    "s6.issubset(s5) "
   ]
  },
  {
   "cell_type": "code",
   "execution_count": 26,
   "id": "2cefb4e2-c8a0-4cf2-b6db-7033fe0e7389",
   "metadata": {},
   "outputs": [
    {
     "data": {
      "text/plain": [
       "False"
      ]
     },
     "execution_count": 26,
     "metadata": {},
     "output_type": "execute_result"
    }
   ],
   "source": [
    "s6.issubset(s4) "
   ]
  },
  {
   "cell_type": "code",
   "execution_count": 27,
   "id": "48aa0a38-8b1c-4784-8748-455e48910163",
   "metadata": {},
   "outputs": [],
   "source": [
    "s7 = {1,2,3,4,5,6,7,8,9}\n",
    "s8 = {15,25,35}\n",
    "s9 = {10,20,30,40}"
   ]
  },
  {
   "cell_type": "code",
   "execution_count": 65,
   "id": "566f97c1-132e-45dd-8a8d-2dfd6a77e3d2",
   "metadata": {},
   "outputs": [
    {
     "data": {
      "text/plain": [
       "{1, 2, 3, 4, 5, 6, 7, 8, 9, 15, 25, 35}"
      ]
     },
     "execution_count": 65,
     "metadata": {},
     "output_type": "execute_result"
    }
   ],
   "source": [
    "s7.update(s8)\n",
    "#s7\n",
    "s7.difference_update()\n",
    "s7"
   ]
  },
  {
   "cell_type": "code",
   "execution_count": 28,
   "id": "73dbc1ac-18c6-4942-aeb9-7022ce20bf8d",
   "metadata": {},
   "outputs": [
    {
     "data": {
      "text/plain": [
       "False"
      ]
     },
     "execution_count": 28,
     "metadata": {},
     "output_type": "execute_result"
    }
   ],
   "source": [
    "s7.issuperset(s8)"
   ]
  },
  {
   "cell_type": "code",
   "execution_count": 29,
   "id": "10bcc759-42d7-40c5-b332-dd1881bbc077",
   "metadata": {},
   "outputs": [
    {
     "data": {
      "text/plain": [
       "False"
      ]
     },
     "execution_count": 29,
     "metadata": {},
     "output_type": "execute_result"
    }
   ],
   "source": [
    "s8.issubset(s7) "
   ]
  },
  {
   "cell_type": "code",
   "execution_count": 31,
   "id": "a851bae9-6fe9-4908-b630-8353c71fcf86",
   "metadata": {},
   "outputs": [
    {
     "data": {
      "text/plain": [
       "True"
      ]
     },
     "execution_count": 31,
     "metadata": {},
     "output_type": "execute_result"
    }
   ],
   "source": [
    "s7.isdisjoint(s8)"
   ]
  },
  {
   "cell_type": "markdown",
   "id": "48710de6-4e74-492d-8141-1981d752e949",
   "metadata": {},
   "source": [
    "# Dictionary"
   ]
  },
  {
   "cell_type": "code",
   "execution_count": 32,
   "id": "540e4a0b-d3b1-467a-8fae-87e23d2f30d2",
   "metadata": {},
   "outputs": [
    {
     "data": {
      "text/plain": [
       "{}"
      ]
     },
     "execution_count": 32,
     "metadata": {},
     "output_type": "execute_result"
    }
   ],
   "source": [
    "d = {}\n",
    "d"
   ]
  },
  {
   "cell_type": "code",
   "execution_count": 33,
   "id": "8b6d4b6e-4d1f-46cf-b0e2-af164dd25570",
   "metadata": {},
   "outputs": [
    {
     "data": {
      "text/plain": [
       "dict"
      ]
     },
     "execution_count": 33,
     "metadata": {},
     "output_type": "execute_result"
    }
   ],
   "source": [
    "type(d)"
   ]
  },
  {
   "cell_type": "code",
   "execution_count": 34,
   "id": "4b6d35de-eac8-4d89-89d6-f893dd415043",
   "metadata": {},
   "outputs": [
    {
     "data": {
      "text/plain": [
       "{1: 'one', 2: 'two', 3: 'three', 'four': 4, 'l': [1, 2, 3]}"
      ]
     },
     "execution_count": 34,
     "metadata": {},
     "output_type": "execute_result"
    }
   ],
   "source": [
    "d1 = {1 : 'one', 2: 'two', 3: 'three', 'four': 4, 'l' : [1,2,3]} \n",
    "d1"
   ]
  },
  {
   "cell_type": "code",
   "execution_count": 35,
   "id": "997a9610-bc8f-4dfd-954c-9e354e995b6d",
   "metadata": {},
   "outputs": [
    {
     "data": {
      "text/plain": [
       "{1: 'one', 2: 'two', 3: 'three', 'four': 4, 'l': [1, 2, 3]}"
      ]
     },
     "execution_count": 35,
     "metadata": {},
     "output_type": "execute_result"
    }
   ],
   "source": [
    "d1"
   ]
  },
  {
   "cell_type": "code",
   "execution_count": 38,
   "id": "c61a6f39-8c17-4f0c-a556-feac28e6960c",
   "metadata": {},
   "outputs": [],
   "source": [
    "d2 = d1.copy()"
   ]
  },
  {
   "cell_type": "code",
   "execution_count": 39,
   "id": "4472578d-5b43-43ad-8362-56c5386ed9f1",
   "metadata": {},
   "outputs": [
    {
     "data": {
      "text/plain": [
       "{1: 'one', 2: 'two', 3: 'three', 'four': 4, 'l': [1, 2, 3]}"
      ]
     },
     "execution_count": 39,
     "metadata": {},
     "output_type": "execute_result"
    }
   ],
   "source": [
    "d2"
   ]
  },
  {
   "cell_type": "code",
   "execution_count": 41,
   "id": "ea32593b-1b29-487f-a30b-695e0ba52d30",
   "metadata": {},
   "outputs": [
    {
     "data": {
      "text/plain": [
       "dict_items([(1, 'one'), (2, 'two'), (3, 'three'), ('four', 4), ('l', [1, 2, 3])])"
      ]
     },
     "execution_count": 41,
     "metadata": {},
     "output_type": "execute_result"
    }
   ],
   "source": [
    "d1.items() # returns keys and values from the dictionary"
   ]
  },
  {
   "cell_type": "code",
   "execution_count": 42,
   "id": "9529dad1-fab8-4edc-9617-010583b1d771",
   "metadata": {},
   "outputs": [
    {
     "data": {
      "text/plain": [
       "5"
      ]
     },
     "execution_count": 42,
     "metadata": {},
     "output_type": "execute_result"
    }
   ],
   "source": [
    "len(d1.items())"
   ]
  },
  {
   "cell_type": "code",
   "execution_count": 43,
   "id": "ef2dced9-231f-463a-9d59-a43b0d88b2fa",
   "metadata": {},
   "outputs": [
    {
     "data": {
      "text/plain": [
       "{1: 'one', 2: 'two', 3: 'three', 'four': 4, 'l': [1, 2, 3]}"
      ]
     },
     "execution_count": 43,
     "metadata": {},
     "output_type": "execute_result"
    }
   ],
   "source": [
    "d1"
   ]
  },
  {
   "cell_type": "code",
   "execution_count": 44,
   "id": "3f4dabed-4fa2-4c05-bfff-c63110aa1525",
   "metadata": {},
   "outputs": [
    {
     "ename": "KeyError",
     "evalue": "slice(None, None, None)",
     "output_type": "error",
     "traceback": [
      "\u001b[1;31m---------------------------------------------------------------------------\u001b[0m",
      "\u001b[1;31mKeyError\u001b[0m                                  Traceback (most recent call last)",
      "Cell \u001b[1;32mIn[44], line 1\u001b[0m\n\u001b[1;32m----> 1\u001b[0m d1[:]\n",
      "\u001b[1;31mKeyError\u001b[0m: slice(None, None, None)"
     ]
    }
   ],
   "source": [
    "d1[:] # slicing is allowed"
   ]
  },
  {
   "cell_type": "code",
   "execution_count": 45,
   "id": "c81b4223-85e2-46d8-aa7a-ff02f82bbe78",
   "metadata": {},
   "outputs": [
    {
     "data": {
      "text/plain": [
       "{1: 'one', 2: 'two', 3: 'three', 'four': 4, 'l': [1, 2, 3]}"
      ]
     },
     "execution_count": 45,
     "metadata": {},
     "output_type": "execute_result"
    }
   ],
   "source": [
    "d1"
   ]
  },
  {
   "cell_type": "code",
   "execution_count": 46,
   "id": "077a2847-56ac-45e2-9105-ee2ebb1da538",
   "metadata": {},
   "outputs": [
    {
     "data": {
      "text/plain": [
       "4"
      ]
     },
     "execution_count": 46,
     "metadata": {},
     "output_type": "execute_result"
    }
   ],
   "source": [
    "d1['four']"
   ]
  },
  {
   "cell_type": "code",
   "execution_count": 47,
   "id": "e4aad229-e9cb-4b1f-877f-ad035ec042ec",
   "metadata": {},
   "outputs": [
    {
     "ename": "KeyError",
     "evalue": "'one'",
     "output_type": "error",
     "traceback": [
      "\u001b[1;31m---------------------------------------------------------------------------\u001b[0m",
      "\u001b[1;31mKeyError\u001b[0m                                  Traceback (most recent call last)",
      "Cell \u001b[1;32mIn[47], line 1\u001b[0m\n\u001b[1;32m----> 1\u001b[0m d1[\u001b[38;5;124m'\u001b[39m\u001b[38;5;124mone\u001b[39m\u001b[38;5;124m'\u001b[39m]\n",
      "\u001b[1;31mKeyError\u001b[0m: 'one'"
     ]
    }
   ],
   "source": [
    "d1['one'] "
   ]
  },
  {
   "cell_type": "code",
   "execution_count": 48,
   "id": "0f6d02e0-a91c-45f5-b0cc-0bde603a8133",
   "metadata": {},
   "outputs": [
    {
     "data": {
      "text/plain": [
       "{1: 'one', 2: 'two', 3: 'three', 'four': 4, 'l': [1, 2, 3]}"
      ]
     },
     "execution_count": 48,
     "metadata": {},
     "output_type": "execute_result"
    }
   ],
   "source": [
    "d1"
   ]
  },
  {
   "cell_type": "code",
   "execution_count": 52,
   "id": "a7671b99-2584-499d-98b4-ca41e432a30d",
   "metadata": {},
   "outputs": [
    {
     "data": {
      "text/plain": [
       "dict_keys([1, 2, 3, 'four', 'l'])"
      ]
     },
     "execution_count": 52,
     "metadata": {},
     "output_type": "execute_result"
    }
   ],
   "source": [
    "d1.keys()#listing all keys\n",
    "#d1.get(1)# printing single value by using its index"
   ]
  },
  {
   "cell_type": "code",
   "execution_count": 53,
   "id": "982ac815-4f7f-46e9-897f-fa8136a769da",
   "metadata": {},
   "outputs": [
    {
     "data": {
      "text/plain": [
       "dict_values(['one', 'two', 'three', 4, [1, 2, 3]])"
      ]
     },
     "execution_count": 53,
     "metadata": {},
     "output_type": "execute_result"
    }
   ],
   "source": [
    "d1.values() #listing all values in the dict"
   ]
  },
  {
   "cell_type": "code",
   "execution_count": 54,
   "id": "3a402bb0-dfdf-4771-af75-bdc7dfa20d1b",
   "metadata": {},
   "outputs": [
    {
     "data": {
      "text/plain": [
       "{1: 'one', 2: 'two', 3: 'three', 'four': 4, 'l': [1, 2, 3]}"
      ]
     },
     "execution_count": 54,
     "metadata": {},
     "output_type": "execute_result"
    }
   ],
   "source": [
    "d1"
   ]
  },
  {
   "cell_type": "code",
   "execution_count": 55,
   "id": "f2cae90e-28f7-49f6-8a22-6823958c5851",
   "metadata": {},
   "outputs": [
    {
     "data": {
      "text/plain": [
       "dict_values(['one', 'two', 'three', 4, [1, 2, 3]])"
      ]
     },
     "execution_count": 55,
     "metadata": {},
     "output_type": "execute_result"
    }
   ],
   "source": [
    "d1.values()"
   ]
  },
  {
   "cell_type": "code",
   "execution_count": 56,
   "id": "4d3f3a75-135f-444d-9d14-221174504d12",
   "metadata": {},
   "outputs": [
    {
     "data": {
      "text/plain": [
       "{1: 'one', 2: 'two', 3: 'three', 'four': 4, 'l': [1, 2, 3]}"
      ]
     },
     "execution_count": 56,
     "metadata": {},
     "output_type": "execute_result"
    }
   ],
   "source": [
    "d1"
   ]
  },
  {
   "cell_type": "code",
   "execution_count": 57,
   "id": "1819a459-e227-48ad-9d4b-2506b09e5699",
   "metadata": {},
   "outputs": [
    {
     "data": {
      "text/plain": [
       "[1, 2, 3]"
      ]
     },
     "execution_count": 57,
     "metadata": {},
     "output_type": "execute_result"
    }
   ],
   "source": [
    "d1.pop('l')"
   ]
  },
  {
   "cell_type": "code",
   "execution_count": 58,
   "id": "2862742b-1509-40e4-97c2-fcb4a42566b6",
   "metadata": {},
   "outputs": [
    {
     "data": {
      "text/plain": [
       "{1: 'one', 2: 'two', 3: 'three', 'four': 4}"
      ]
     },
     "execution_count": 58,
     "metadata": {},
     "output_type": "execute_result"
    }
   ],
   "source": [
    "d1"
   ]
  },
  {
   "cell_type": "code",
   "execution_count": null,
   "id": "ac3e3602-2efb-4baf-9735-3cea0f629ba2",
   "metadata": {},
   "outputs": [],
   "source": [
    "100 in d1"
   ]
  },
  {
   "cell_type": "markdown",
   "id": "66199a3b-bb82-4075-aec7-a7689db55775",
   "metadata": {},
   "source": [
    "# Range"
   ]
  },
  {
   "cell_type": "code",
   "execution_count": 59,
   "id": "b12c8c8f-88a6-454f-b0a6-911f7423c237",
   "metadata": {},
   "outputs": [
    {
     "data": {
      "text/plain": [
       "range(0, 10)"
      ]
     },
     "execution_count": 59,
     "metadata": {},
     "output_type": "execute_result"
    }
   ],
   "source": [
    "range(10) "
   ]
  },
  {
   "cell_type": "code",
   "execution_count": 66,
   "id": "e8da3544-6c56-45ef-bf90-d568aed9fb2e",
   "metadata": {},
   "outputs": [
    {
     "data": {
      "text/plain": [
       "range(10, 20)"
      ]
     },
     "execution_count": 66,
     "metadata": {},
     "output_type": "execute_result"
    }
   ],
   "source": [
    "range(10, 20) "
   ]
  },
  {
   "cell_type": "code",
   "execution_count": 67,
   "id": "a8dfd11c-09a2-4182-8860-9a1827c09bdc",
   "metadata": {},
   "outputs": [
    {
     "data": {
      "text/plain": [
       "range(10, 20, 5)"
      ]
     },
     "execution_count": 67,
     "metadata": {},
     "output_type": "execute_result"
    }
   ],
   "source": [
    "range(10, 20, 5) "
   ]
  },
  {
   "cell_type": "code",
   "execution_count": 68,
   "id": "a612b017-0a18-467c-896d-da1852cb9d3c",
   "metadata": {},
   "outputs": [
    {
     "data": {
      "text/plain": [
       "[0, 1, 2, 3, 4, 5, 6, 7, 8, 9]"
      ]
     },
     "execution_count": 68,
     "metadata": {},
     "output_type": "execute_result"
    }
   ],
   "source": [
    "list(range(10)) "
   ]
  },
  {
   "cell_type": "code",
   "execution_count": null,
   "id": "d46a2dbf-ca7e-4091-93f8-02609a97bc97",
   "metadata": {},
   "outputs": [],
   "source": [
    "list(range(10, 20)) "
   ]
  },
  {
   "cell_type": "code",
   "execution_count": null,
   "id": "96c41f06-1b33-4528-b6c1-c7c03794762d",
   "metadata": {},
   "outputs": [],
   "source": [
    "list(range(10, 20, 5)) "
   ]
  },
  {
   "cell_type": "code",
   "execution_count": null,
   "id": "16f5ea0d-3a27-44a3-8078-7598dab12b14",
   "metadata": {},
   "outputs": [],
   "source": [
    "r = range(10, 20, 5) \n",
    "r"
   ]
  },
  {
   "cell_type": "code",
   "execution_count": null,
   "id": "35ac0ed4-8ab5-49d4-bdff-d4760203f5d9",
   "metadata": {},
   "outputs": [],
   "source": [
    "for i in r:\n",
    "    print(i)"
   ]
  },
  {
   "cell_type": "code",
   "execution_count": null,
   "id": "5ccea3a6-3185-4f4e-b774-baca5224d64e",
   "metadata": {},
   "outputs": [],
   "source": []
  }
 ],
 "metadata": {
  "kernelspec": {
   "display_name": "Python 3 (ipykernel)",
   "language": "python",
   "name": "python3"
  },
  "language_info": {
   "codemirror_mode": {
    "name": "ipython",
    "version": 3
   },
   "file_extension": ".py",
   "mimetype": "text/x-python",
   "name": "python",
   "nbconvert_exporter": "python",
   "pygments_lexer": "ipython3",
   "version": "3.13.5"
  }
 },
 "nbformat": 4,
 "nbformat_minor": 5
}
