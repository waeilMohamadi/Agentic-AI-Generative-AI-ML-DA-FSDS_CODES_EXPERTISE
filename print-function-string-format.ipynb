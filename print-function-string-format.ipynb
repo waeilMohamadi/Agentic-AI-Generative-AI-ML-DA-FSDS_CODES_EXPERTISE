{
 "cells": [
  {
   "cell_type": "markdown",
   "id": "35a48d8e-a153-4da4-b471-db3b294d1689",
   "metadata": {},
   "source": [
    "Print function in python"
   ]
  },
  {
   "cell_type": "code",
   "execution_count": 12,
   "id": "106ea2f5-3fd0-4360-a175-bb36b4d97e5f",
   "metadata": {},
   "outputs": [],
   "source": [
    "v = 10\n",
    "v2 = 20\n",
    "a= v+v2\n"
   ]
  },
  {
   "cell_type": "code",
   "execution_count": 2,
   "id": "a723977e-1705-4701-a384-cdb87219c734",
   "metadata": {},
   "outputs": [
    {
     "data": {
      "text/plain": [
       "10"
      ]
     },
     "execution_count": 2,
     "metadata": {},
     "output_type": "execute_result"
    }
   ],
   "source": [
    "v"
   ]
  },
  {
   "cell_type": "code",
   "execution_count": 19,
   "id": "2a8ce3a6-2724-4483-969e-7980017323bb",
   "metadata": {},
   "outputs": [
    {
     "name": "stdout",
     "output_type": "stream",
     "text": [
      "first value =  10 and second value = 20\n",
      "adding values of 10 and 20 is= 30\n",
      "The addition of 10 and 20  is=30\n"
     ]
    }
   ],
   "source": [
    "#to print everthing in the screen (v and v2) \n",
    "print(f\"first value =  {v} and second value = {v2}\") #string format first way\n",
    "print(\"adding values of\",v,\"and\",v2,\"is=\",a)# string format second way\n",
    "print('The addition of {} and {}  is={}'.format(v,v2,a))# 3thd opetion"
   ]
  },
  {
   "cell_type": "markdown",
   "id": "6c970358-9169-40d7-8175-aa6714e22939",
   "metadata": {},
   "source": [
    "end statement"
   ]
  },
  {
   "cell_type": "code",
   "execution_count": 26,
   "id": "49b8cc3b-77a9-42db-8a3c-e42edcfd757d",
   "metadata": {},
   "outputs": [
    {
     "name": "stdout",
     "output_type": "stream",
     "text": [
      "HelloPython\n"
     ]
    }
   ],
   "source": [
    "print(\"Hello\",end=(''))# end statement is making the statement at one line\n",
    "print(\"Python\")"
   ]
  },
  {
   "cell_type": "markdown",
   "id": "1d5965d1-2ea9-45ff-b20e-43f14acb88af",
   "metadata": {},
   "source": [
    "Seperator"
   ]
  },
  {
   "cell_type": "code",
   "execution_count": 32,
   "id": "7b94d305-adcd-48c6-a7f1-1ae18d137fb6",
   "metadata": {},
   "outputs": [
    {
     "name": "stdout",
     "output_type": "stream",
     "text": [
      "Hello--how are you\n",
      "Hello##how are you\n",
      "Hello how are you\n"
     ]
    }
   ],
   "source": [
    "print(\"Hello\",\"how are you\",sep='--')# seperator statement is seperating the statement by \n",
    "print(\"Hello\",\"how are you\",sep='##')\n",
    "print(\"Hello \",\"how are you\",sep='')\n"
   ]
  },
  {
   "cell_type": "code",
   "execution_count": null,
   "id": "d8e37eea-4439-4593-9041-0e07ccda6bdf",
   "metadata": {},
   "outputs": [],
   "source": []
  }
 ],
 "metadata": {
  "kernelspec": {
   "display_name": "Python 3 (ipykernel)",
   "language": "python",
   "name": "python3"
  },
  "language_info": {
   "codemirror_mode": {
    "name": "ipython",
    "version": 3
   },
   "file_extension": ".py",
   "mimetype": "text/x-python",
   "name": "python",
   "nbconvert_exporter": "python",
   "pygments_lexer": "ipython3",
   "version": "3.13.5"
  }
 },
 "nbformat": 4,
 "nbformat_minor": 5
}
