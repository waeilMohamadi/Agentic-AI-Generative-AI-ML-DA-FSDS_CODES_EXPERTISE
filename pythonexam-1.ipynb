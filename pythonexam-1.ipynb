{
 "cells": [
  {
   "cell_type": "markdown",
   "id": "24b83eee-fa65-4e2b-aa79-46622cce23f3",
   "metadata": {},
   "source": [
    "All / Any "
   ]
  },
  {
   "cell_type": "code",
   "execution_count": 1,
   "id": "ee1c74a6-0e1f-47c0-8a1d-86e659d7e0c1",
   "metadata": {},
   "outputs": [],
   "source": [
    "s1= [10,20,30]\n",
    "s2 = [40,50,0]"
   ]
  },
  {
   "cell_type": "code",
   "execution_count": 2,
   "id": "2b371e3e-382e-4e27-a8cd-e110ba29430a",
   "metadata": {},
   "outputs": [
    {
     "data": {
      "text/plain": [
       "[10, 20, 30]"
      ]
     },
     "execution_count": 2,
     "metadata": {},
     "output_type": "execute_result"
    }
   ],
   "source": [
    "s1"
   ]
  },
  {
   "cell_type": "code",
   "execution_count": 3,
   "id": "b72523d3-8125-4c4e-b999-88df01d9ae87",
   "metadata": {},
   "outputs": [
    {
     "data": {
      "text/plain": [
       "[40, 50, 0]"
      ]
     },
     "execution_count": 3,
     "metadata": {},
     "output_type": "execute_result"
    }
   ],
   "source": [
    "s2"
   ]
  },
  {
   "cell_type": "code",
   "execution_count": 5,
   "id": "013bc3b2-f1e5-4c45-b99b-711c09cd88d4",
   "metadata": {},
   "outputs": [
    {
     "data": {
      "text/plain": [
       "True"
      ]
     },
     "execution_count": 5,
     "metadata": {},
     "output_type": "execute_result"
    }
   ],
   "source": [
    "any(s1)"
   ]
  },
  {
   "cell_type": "code",
   "execution_count": 6,
   "id": "a53d2ca7-16f9-4022-b5eb-893a2da54aa6",
   "metadata": {},
   "outputs": [
    {
     "data": {
      "text/plain": [
       "True"
      ]
     },
     "execution_count": 6,
     "metadata": {},
     "output_type": "execute_result"
    }
   ],
   "source": [
    "any(s2)"
   ]
  },
  {
   "cell_type": "code",
   "execution_count": 7,
   "id": "512d60c0-3c8f-484e-ab45-c59dff851735",
   "metadata": {},
   "outputs": [
    {
     "data": {
      "text/plain": [
       "True"
      ]
     },
     "execution_count": 7,
     "metadata": {},
     "output_type": "execute_result"
    }
   ],
   "source": [
    "all(s1)"
   ]
  },
  {
   "cell_type": "code",
   "execution_count": 8,
   "id": "24fe3859-7cb1-4630-890f-69032b648610",
   "metadata": {},
   "outputs": [
    {
     "data": {
      "text/plain": [
       "False"
      ]
     },
     "execution_count": 8,
     "metadata": {},
     "output_type": "execute_result"
    }
   ],
   "source": [
    "all(s2)"
   ]
  },
  {
   "cell_type": "markdown",
   "id": "c107d10b-1e69-44b0-9a3d-0927e387b2ba",
   "metadata": {},
   "source": [
    "How do you convert a list of strings to a single string in Python? "
   ]
  },
  {
   "cell_type": "code",
   "execution_count": 1,
   "id": "9544775f-7717-45ac-bc2a-fbee2a70bc95",
   "metadata": {},
   "outputs": [
    {
     "data": {
      "text/plain": [
       "['Fahd', 'Waeil', 'Hassan']"
      ]
     },
     "execution_count": 1,
     "metadata": {},
     "output_type": "execute_result"
    }
   ],
   "source": [
    "str1 = [\"Fahd\",\"Waeil\",\"Hassan\"]\n",
    "str1"
   ]
  },
  {
   "cell_type": "code",
   "execution_count": 2,
   "id": "a50fe52d-1149-4eb7-a392-6499452de47e",
   "metadata": {},
   "outputs": [],
   "source": [
    "s1 = \" \".join(str1)"
   ]
  },
  {
   "cell_type": "code",
   "execution_count": 3,
   "id": "06ecf4d8-1565-48fb-ab1d-6f63c6f31500",
   "metadata": {},
   "outputs": [
    {
     "name": "stdout",
     "output_type": "stream",
     "text": [
      "Fahd Waeil Hassan\n"
     ]
    }
   ],
   "source": [
    "print(s1)"
   ]
  },
  {
   "cell_type": "markdown",
   "id": "16f0c592-03a7-4987-acf6-cd289d4b25cd",
   "metadata": {},
   "source": [
    "Question 21 \n",
    "How do you find the length of a list in Python?"
   ]
  },
  {
   "cell_type": "code",
   "execution_count": 4,
   "id": "3817066d-ae6b-4e10-8ce9-b4eb14403645",
   "metadata": {},
   "outputs": [
    {
     "data": {
      "text/plain": [
       "5"
      ]
     },
     "execution_count": 4,
     "metadata": {},
     "output_type": "execute_result"
    }
   ],
   "source": [
    "l = [10,30,50,70,100]\n",
    "len(l)"
   ]
  },
  {
   "cell_type": "markdown",
   "id": "04853318-a6a8-4e71-a342-c51e2c1a21ff",
   "metadata": {},
   "source": [
    "Question 22 \n",
    "How do you convert a floating-point number to an integer in Python? "
   ]
  },
  {
   "cell_type": "code",
   "execution_count": 5,
   "id": "df91d66c-8a95-4c1c-a942-14b4e7870638",
   "metadata": {},
   "outputs": [
    {
     "data": {
      "text/plain": [
       "12"
      ]
     },
     "execution_count": 5,
     "metadata": {},
     "output_type": "execute_result"
    }
   ],
   "source": [
    "int(12.55) # float to integer"
   ]
  },
  {
   "cell_type": "code",
   "execution_count": 8,
   "id": "9a0ed32a-5f80-41f3-8038-3927a6bb6888",
   "metadata": {},
   "outputs": [
    {
     "data": {
      "text/plain": [
       "12.0"
      ]
     },
     "execution_count": 8,
     "metadata": {},
     "output_type": "execute_result"
    }
   ],
   "source": [
    "float(12) # integer to float"
   ]
  },
  {
   "cell_type": "markdown",
   "id": "e193824a-d7eb-47b0-91bc-6296bc1c3b1e",
   "metadata": {},
   "source": [
    "Question 23 \n",
    "How do you create a multiline string in Python?"
   ]
  },
  {
   "cell_type": "code",
   "execution_count": 19,
   "id": "de35e4fe-0907-48f7-b12d-e8f7eddd526e",
   "metadata": {},
   "outputs": [],
   "source": [
    "s =  \"\"\"This is a multiline string\"\"\""
   ]
  },
  {
   "cell_type": "code",
   "execution_count": 20,
   "id": "20a7af43-4b5c-4eb2-b8cd-c0b0e40cde70",
   "metadata": {},
   "outputs": [
    {
     "data": {
      "text/plain": [
       "'This is a multiline string'"
      ]
     },
     "execution_count": 20,
     "metadata": {},
     "output_type": "execute_result"
    }
   ],
   "source": [
    "s"
   ]
  },
  {
   "cell_type": "markdown",
   "id": "076b32c0-e8ab-4650-bfa9-2c942651824b",
   "metadata": {},
   "source": [
    "#Question 24 \n",
    "How do you create a dictionary using a comprehension in Python? "
   ]
  },
  {
   "cell_type": "code",
   "execution_count": 27,
   "id": "f22c712c-b8bc-4e26-af5f-0b4cdc22cf82",
   "metadata": {},
   "outputs": [],
   "source": [
    "dic = {x:2**2 for x in range(1,4)}"
   ]
  },
  {
   "cell_type": "code",
   "execution_count": 28,
   "id": "5bcc7670-fb8c-48dc-b83c-119f405498c1",
   "metadata": {},
   "outputs": [
    {
     "data": {
      "text/plain": [
       "{1: 4, 2: 4, 3: 4}"
      ]
     },
     "execution_count": 28,
     "metadata": {},
     "output_type": "execute_result"
    }
   ],
   "source": [
    "dic"
   ]
  },
  {
   "cell_type": "code",
   "execution_count": 41,
   "id": "0cd02981-7aea-4fa2-ac36-c9140b4d9918",
   "metadata": {},
   "outputs": [],
   "source": [
    "dect = {1:'apple',2:'banana',3:'cherry',4:'cider'}\n",
    "d = {k:v for k,v in dect.items()}"
   ]
  },
  {
   "cell_type": "code",
   "execution_count": 42,
   "id": "2834e8eb-f9dd-4507-8083-bfd0d0becc2b",
   "metadata": {},
   "outputs": [
    {
     "data": {
      "text/plain": [
       "{1: 'apple', 2: 'banana', 3: 'cherry', 4: 'cider'}"
      ]
     },
     "execution_count": 42,
     "metadata": {},
     "output_type": "execute_result"
    }
   ],
   "source": [
    "d"
   ]
  },
  {
   "cell_type": "code",
   "execution_count": 43,
   "id": "af87ee34-71f5-40bc-9e1a-faac79972416",
   "metadata": {},
   "outputs": [],
   "source": [
    "keys = {1,2,3,4}\n",
    "values = {'apple','banana','cherry','orange'}\n"
   ]
  },
  {
   "cell_type": "code",
   "execution_count": 53,
   "id": "16ec0964-9270-4f5d-b891-56e941397ca5",
   "metadata": {},
   "outputs": [],
   "source": [
    "zipped = {k:v for k,v in zip(keys,values)} #zip() is a built-in Python function that combines two or more iterables (like lists, tuples, or strings) element-by-element into pairs (or tuples)."
   ]
  },
  {
   "cell_type": "code",
   "execution_count": 54,
   "id": "d92f124f-3491-4db8-86ce-43dd86c32a48",
   "metadata": {},
   "outputs": [
    {
     "data": {
      "text/plain": [
       "{1: 'cherry', 2: 'banana', 3: 'apple', 4: 'orange'}"
      ]
     },
     "execution_count": 54,
     "metadata": {},
     "output_type": "execute_result"
    }
   ],
   "source": [
    "zipped"
   ]
  },
  {
   "cell_type": "code",
   "execution_count": 47,
   "id": "4ef88c9a-9725-48d4-b0ca-492f1545b5b0",
   "metadata": {},
   "outputs": [
    {
     "data": {
      "text/plain": [
       "'cherry'"
      ]
     },
     "execution_count": 47,
     "metadata": {},
     "output_type": "execute_result"
    }
   ],
   "source": [
    "zipped[1]"
   ]
  },
  {
   "cell_type": "code",
   "execution_count": 48,
   "id": "496b2395-df71-4645-8112-9f6549063d81",
   "metadata": {},
   "outputs": [
    {
     "data": {
      "text/plain": [
       "'cherry'"
      ]
     },
     "execution_count": 48,
     "metadata": {},
     "output_type": "execute_result"
    }
   ],
   "source": [
    "zipped.get(1)"
   ]
  },
  {
   "cell_type": "code",
   "execution_count": 55,
   "id": "af410d1b-4bf6-4587-9b40-c3ae4be3a05e",
   "metadata": {},
   "outputs": [
    {
     "data": {
      "text/plain": [
       "dict_items([(1, 'cherry'), (2, 'banana'), (3, 'apple'), (4, 'orange')])"
      ]
     },
     "execution_count": 55,
     "metadata": {},
     "output_type": "execute_result"
    }
   ],
   "source": [
    "zipped.items()"
   ]
  },
  {
   "cell_type": "code",
   "execution_count": 56,
   "id": "befb1b87-7f3a-482d-9d12-cac839d231c9",
   "metadata": {},
   "outputs": [
    {
     "data": {
      "text/plain": [
       "dict_keys([1, 2, 3, 4])"
      ]
     },
     "execution_count": 56,
     "metadata": {},
     "output_type": "execute_result"
    }
   ],
   "source": [
    "zipped.keys()"
   ]
  },
  {
   "cell_type": "code",
   "execution_count": 57,
   "id": "71a3767e-d2fe-4cc1-b163-01e71c52c747",
   "metadata": {},
   "outputs": [
    {
     "data": {
      "text/plain": [
       "dict_values(['cherry', 'banana', 'apple', 'orange'])"
      ]
     },
     "execution_count": 57,
     "metadata": {},
     "output_type": "execute_result"
    }
   ],
   "source": [
    "zipped.values()"
   ]
  },
  {
   "cell_type": "code",
   "execution_count": 58,
   "id": "5c75221b-4c4e-4ef9-9d63-d38417be78ed",
   "metadata": {},
   "outputs": [
    {
     "data": {
      "text/plain": [
       "dict"
      ]
     },
     "execution_count": 58,
     "metadata": {},
     "output_type": "execute_result"
    }
   ],
   "source": [
    "type(zipped)"
   ]
  },
  {
   "cell_type": "markdown",
   "id": "13f28cc6-76fa-449f-be28-7965b591ee2a",
   "metadata": {},
   "source": [
    "Question 25 \n",
    "What is the purpose of the __dict__ attribute in Python? "
   ]
  },
  {
   "cell_type": "code",
   "execution_count": 59,
   "id": "5ddfd67b-8037-476e-9995-e27b07702bf9",
   "metadata": {},
   "outputs": [],
   "source": [
    "#The __dict__ attribute stores the namespace (attributes and methods)\n",
    "#of a class, instance, or module."
   ]
  },
  {
   "cell_type": "code",
   "execution_count": 71,
   "id": "4f911253-bb9b-496c-bae6-c59e9117f2a6",
   "metadata": {},
   "outputs": [
    {
     "name": "stdout",
     "output_type": "stream",
     "text": [
      "{'__module__': '__main__', '__firstlineno__': 1, 'brand': 'Toyota', '__init__': <function Car.__init__ at 0x000001E5068260C0>, '__static_attributes__': ('color',), '__dict__': <attribute '__dict__' of 'Car' objects>, '__weakref__': <attribute '__weakref__' of 'Car' objects>, '__doc__': None}\n",
      "{'color': 'red'}\n",
      "__main__\n"
     ]
    }
   ],
   "source": [
    "class Car:\n",
    "    brand = \"Toyota\"\n",
    "    def __init__(self, color):\n",
    "        self.color = color\n",
    "\n",
    "print(Car.__dict__)       # Class dictionary\n",
    "c = Car(\"red\")\n",
    "print(c.__dict__)         # Instance dictionary\n",
    "print(c.__module__)\n",
    "    \n",
    "    "
   ]
  },
  {
   "cell_type": "markdown",
   "id": "db32f9d2-a014-439b-a502-7864fd4f198b",
   "metadata": {},
   "source": [
    "Question 28 \n",
    "What is the output of the following code?"
   ]
  },
  {
   "cell_type": "code",
   "execution_count": 75,
   "id": "ee2fa287-a56d-45ff-9fcb-09fd99c331d8",
   "metadata": {},
   "outputs": [
    {
     "name": "stdout",
     "output_type": "stream",
     "text": [
      "<class 'set'>\n"
     ]
    }
   ],
   "source": [
    "st = \"python\"\n",
    "print(type({st}))"
   ]
  },
  {
   "cell_type": "markdown",
   "id": "4ee82f8a-e49d-4112-ac14-2154d863bc8b",
   "metadata": {},
   "source": [
    "Question 29 \n",
    "Which data type can be used to store the percentage obtained by a student?"
   ]
  },
  {
   "cell_type": "code",
   "execution_count": 76,
   "id": "c8093dbd-1929-4e7a-9cbe-70d54843e90a",
   "metadata": {},
   "outputs": [],
   "source": [
    "#Float → Stores numbers with decimals (e.g., 92.5, 76.25) → ✅"
   ]
  },
  {
   "cell_type": "code",
   "execution_count": 79,
   "id": "f875dc8b-becb-45d6-bcc0-39da559624d5",
   "metadata": {},
   "outputs": [
    {
     "name": "stdout",
     "output_type": "stream",
     "text": [
      "{1: 'A', 2: 'E', 3: 'I', 4: 'O', 10: 'W'}\n"
     ]
    }
   ],
   "source": [
    "#Question 30 \n",
    "dic = {1: 'A', 2: 'E', 3: 'I'} \n",
    "dic[4] = 'O'\n",
    "dic[10] = 'W'\n",
    "print(dic) "
   ]
  },
  {
   "cell_type": "markdown",
   "id": "ec772874-40f3-423f-b3cc-a66e529bd5b2",
   "metadata": {},
   "source": [
    "Question 31 \n",
    "What is the output of the following code? "
   ]
  },
  {
   "cell_type": "code",
   "execution_count": 87,
   "id": "00ebe09c-b739-4bc7-b747-5292149e3896",
   "metadata": {},
   "outputs": [
    {
     "name": "stdout",
     "output_type": "stream",
     "text": [
      "5\n"
     ]
    }
   ],
   "source": [
    "list1 = ['a', 'b', 'g', 1, 5] \n",
    "print(list1.pop())"
   ]
  },
  {
   "cell_type": "code",
   "execution_count": 86,
   "id": "ae2cbf13-602d-4d3e-9386-4ea10d05545a",
   "metadata": {},
   "outputs": [
    {
     "data": {
      "text/plain": [
       "['b', 'g', 1, 5]"
      ]
     },
     "execution_count": 86,
     "metadata": {},
     "output_type": "execute_result"
    }
   ],
   "source": [
    "list1"
   ]
  },
  {
   "cell_type": "markdown",
   "id": "982e630c-2a71-4f95-968c-8489e17f8894",
   "metadata": {},
   "source": [
    "Question 32 \n",
    "Which of the following operators is used to add elements at the end of a list? "
   ]
  },
  {
   "cell_type": "code",
   "execution_count": null,
   "id": "0d9357f2-3fc8-4071-afcf-00ec3fd66c14",
   "metadata": {},
   "outputs": [],
   "source": [
    "lis.append()"
   ]
  },
  {
   "cell_type": "code",
   "execution_count": 89,
   "id": "8164bee8-471b-4d74-9872-b2b81e50d16b",
   "metadata": {},
   "outputs": [
    {
     "name": "stdout",
     "output_type": "stream",
     "text": [
      "True\n"
     ]
    }
   ],
   "source": [
    "#Question 33 \n",
    "var = 2 \n",
    "print(2 == 2.0) # The operator == checks value equality, not type equality"
   ]
  },
  {
   "cell_type": "code",
   "execution_count": 90,
   "id": "54bd8b4a-3883-4fb2-86bd-0e13525962ed",
   "metadata": {},
   "outputs": [
    {
     "name": "stdout",
     "output_type": "stream",
     "text": [
      "<class 'complex'>\n"
     ]
    }
   ],
   "source": [
    "#Question 34 \n",
    "num = 4 + 0j \n",
    "print(type(num))"
   ]
  },
  {
   "cell_type": "code",
   "execution_count": 91,
   "id": "8db9e678-fc81-48fe-a0ec-4935f98d34c3",
   "metadata": {},
   "outputs": [
    {
     "name": "stdout",
     "output_type": "stream",
     "text": [
      "3\n"
     ]
    }
   ],
   "source": [
    "#Question 35 \n",
    "print(int(3.9))"
   ]
  },
  {
   "cell_type": "code",
   "execution_count": 93,
   "id": "22d3f686-5512-41a7-af5d-5f761d4c8350",
   "metadata": {},
   "outputs": [
    {
     "data": {
      "text/plain": [
       "'Python.py'"
      ]
     },
     "execution_count": 93,
     "metadata": {},
     "output_type": "execute_result"
    }
   ],
   "source": [
    "#Question 36 \n",
    "a = 'Python' + \".py\" # combining two strings\n",
    "a"
   ]
  },
  {
   "cell_type": "markdown",
   "id": "a791feec-9f8b-4186-9b90-8a323ffd4c51",
   "metadata": {},
   "source": [
    "Question 37 \n",
    "In which of the following is indexing not allowed?"
   ]
  },
  {
   "cell_type": "code",
   "execution_count": null,
   "id": "23a9c138-be8a-44bb-b20a-e81fdc75d79c",
   "metadata": {},
   "outputs": [],
   "source": [
    "#answer is Set, because dictionaries can be accessed via keys \n",
    "#(some might argue keys behave like indexing)."
   ]
  },
  {
   "cell_type": "markdown",
   "id": "dc432d36-be75-40f9-8c1b-54eddfbeddc4",
   "metadata": {},
   "source": [
    "Question 38 \n",
    "What is the output of the following code? "
   ]
  },
  {
   "cell_type": "code",
   "execution_count": 101,
   "id": "a746d24f-e218-4d07-8a41-a326c272d359",
   "metadata": {},
   "outputs": [
    {
     "name": "stdout",
     "output_type": "stream",
     "text": [
      "True "
     ]
    },
    {
     "ename": "ValueError",
     "evalue": "invalid literal for int() with base 10: '4.5'",
     "output_type": "error",
     "traceback": [
      "\u001b[1;31m---------------------------------------------------------------------------\u001b[0m",
      "\u001b[1;31mValueError\u001b[0m                                Traceback (most recent call last)",
      "Cell \u001b[1;32mIn[101], line 4\u001b[0m\n\u001b[0;32m      1\u001b[0m \u001b[38;5;28mprint\u001b[39m(\u001b[38;5;28mstr\u001b[39m(\u001b[38;5;28;01mTrue\u001b[39;00m), end\u001b[38;5;241m=\u001b[39m\u001b[38;5;124m\"\u001b[39m\u001b[38;5;124m \u001b[39m\u001b[38;5;124m\"\u001b[39m) \n\u001b[0;32m      2\u001b[0m \u001b[38;5;66;03m#int(\"4\") #valid base 2\u001b[39;00m\n\u001b[0;32m      3\u001b[0m \u001b[38;5;66;03m#float(\"4.5\") #valid base 10\u001b[39;00m\n\u001b[1;32m----> 4\u001b[0m \u001b[38;5;28mint\u001b[39m(\u001b[38;5;124m\"\u001b[39m\u001b[38;5;124m4.5\u001b[39m\u001b[38;5;124m\"\u001b[39m)\n",
      "\u001b[1;31mValueError\u001b[0m: invalid literal for int() with base 10: '4.5'"
     ]
    }
   ],
   "source": [
    "print(str(True), end=\" \") \n",
    "#int(\"4\") #valid base 2\n",
    "#float(\"4.5\") #valid base 10\n",
    "int(\"4.5\") #valid # invalid literal for int() with base 10: '4.5'"
   ]
  },
  {
   "cell_type": "markdown",
   "id": "722371eb-6848-4b81-b6e8-3a244b7970f5",
   "metadata": {},
   "source": [
    "Question 39 \n",
    "Which of the following gives the output as “ello” from name = \"Hello, World!\"? "
   ]
  },
  {
   "cell_type": "code",
   "execution_count": 103,
   "id": "9102e390-eb39-4d48-add7-9dedc37c751b",
   "metadata": {},
   "outputs": [
    {
     "data": {
      "text/plain": [
       "'ello'"
      ]
     },
     "execution_count": 103,
     "metadata": {},
     "output_type": "execute_result"
    }
   ],
   "source": [
    "name = \"Hello, World\"\n",
    "name[1:5]"
   ]
  },
  {
   "cell_type": "markdown",
   "id": "af37c765-2c8c-472c-9272-5bb1b6353456",
   "metadata": {},
   "source": [
    "Question 40"
   ]
  },
  {
   "cell_type": "code",
   "execution_count": 104,
   "id": "dd883ea2-2903-4958-bbbd-a417e5583800",
   "metadata": {},
   "outputs": [
    {
     "name": "stdout",
     "output_type": "stream",
     "text": [
      "{1, 3, 4, 5, 6}\n"
     ]
    }
   ],
   "source": [
    "set1 = {1, 5, 6, 4, 3} \n",
    "print(set1) # 1,3,4,5,6"
   ]
  },
  {
   "cell_type": "markdown",
   "id": "6cdae24e-3f85-4f8e-b44c-406dd2388253",
   "metadata": {},
   "source": [
    "What is the output of the following code? "
   ]
  },
  {
   "cell_type": "code",
   "execution_count": 111,
   "id": "8c33ceae-ec58-4e28-91e1-81ad5051c169",
   "metadata": {},
   "outputs": [
    {
     "name": "stdout",
     "output_type": "stream",
     "text": [
      "25\n",
      "50\n"
     ]
    }
   ],
   "source": [
    "x = 50 # Global variable\n",
    "def fun1():\n",
    "    #global x # Tell Python we want to use the global x\n",
    "    x = 25 # Local variable inside the function\n",
    "    print(x) # Prints the local x\n",
    "     \n",
    "fun1() \n",
    "print(x)  # Prints the global x"
   ]
  },
  {
   "cell_type": "markdown",
   "id": "ca68a241-bed3-4b76-854b-7fab0c75f98c",
   "metadata": {},
   "source": [
    "Question 42 \n",
    "What is the output of the following variable assignment?"
   ]
  },
  {
   "cell_type": "code",
   "execution_count": 116,
   "id": "19ef575b-0ae9-4117-b9de-7d905703c27f",
   "metadata": {},
   "outputs": [
    {
     "name": "stdout",
     "output_type": "stream",
     "text": [
      "76\n",
      "76\n"
     ]
    }
   ],
   "source": [
    "x = 75 \n",
    "def myfunc(): \n",
    "   #global x\n",
    "    x = x + 1 \n",
    "    print(x) \n",
    " \n",
    "myfunc() \n",
    "print(x) # Error cannot access local variable 'x' where it is not associated with a value."
   ]
  },
  {
   "cell_type": "markdown",
   "id": "5bb981f3-0614-4f73-88fa-f1d0f21284a2",
   "metadata": {},
   "source": [
    "Question 43 \n",
    "What is the data type of print(type(0xFF))? "
   ]
  },
  {
   "cell_type": "code",
   "execution_count": 123,
   "id": "414e1a4c-276f-4743-98c7-f2a788f5a009",
   "metadata": {},
   "outputs": [
    {
     "name": "stdout",
     "output_type": "stream",
     "text": [
      "<class 'int'>\n"
     ]
    },
    {
     "data": {
      "text/plain": [
       "'0b11001'"
      ]
     },
     "execution_count": 123,
     "metadata": {},
     "output_type": "execute_result"
    }
   ],
   "source": [
    "print(type(0xff))\n",
    "bin(25)"
   ]
  },
  {
   "cell_type": "markdown",
   "id": "b1e4798a-3fe4-4dd6-a336-78c8c7b0a89e",
   "metadata": {},
   "source": [
    "Question 44 \n",
    "Select all the right ways to create a string literal Ault'Kelly"
   ]
  },
  {
   "cell_type": "code",
   "execution_count": 125,
   "id": "28320f06-776a-4823-bb44-127fc62419d9",
   "metadata": {},
   "outputs": [],
   "source": [
    "#str1 = 'Ault\\\\'Kelly' # invalid\n",
    "str2 = 'Ault\\'Kelly' #Valid\n",
    "str3 = \"\"\"Ault'Kelly\"\"\" # Valid"
   ]
  },
  {
   "cell_type": "code",
   "execution_count": 126,
   "id": "0ac8506b-e389-4b60-9911-57c3d5345fc1",
   "metadata": {},
   "outputs": [
    {
     "data": {
      "text/plain": [
       "\"Ault'Kelly\""
      ]
     },
     "execution_count": 126,
     "metadata": {},
     "output_type": "execute_result"
    }
   ],
   "source": [
    "str2"
   ]
  },
  {
   "cell_type": "code",
   "execution_count": 127,
   "id": "eace054d-1a9f-4c84-9f43-f889146bea54",
   "metadata": {},
   "outputs": [
    {
     "data": {
      "text/plain": [
       "\"Ault'Kelly\""
      ]
     },
     "execution_count": 127,
     "metadata": {},
     "output_type": "execute_result"
    }
   ],
   "source": [
    "str3"
   ]
  },
  {
   "cell_type": "markdown",
   "id": "1240e433-f2f8-4d9e-bcbd-3ca9f998ba18",
   "metadata": {},
   "source": [
    "Question 45 \n",
    "What is the data type of the following? "
   ]
  },
  {
   "cell_type": "code",
   "execution_count": 128,
   "id": "295da706-bf2c-4615-bbf5-fd9675d9d83f",
   "metadata": {},
   "outputs": [
    {
     "name": "stdout",
     "output_type": "stream",
     "text": [
      "<class 'tuple'>\n"
     ]
    }
   ],
   "source": [
    "aTuple = (1, 'Jhon', 1+3j) \n",
    "print(type(aTuple[2:3])) "
   ]
  },
  {
   "cell_type": "markdown",
   "id": "70888a14-0b47-4e87-a568-fd82b3f95e71",
   "metadata": {},
   "source": [
    "What is the output of the following code? "
   ]
  },
  {
   "cell_type": "code",
   "execution_count": 129,
   "id": "64c79bbf-8df4-44c0-91e2-b86ef475b798",
   "metadata": {},
   "outputs": [
    {
     "name": "stdout",
     "output_type": "stream",
     "text": [
      "False True True True\n"
     ]
    }
   ],
   "source": [
    "print(bool(0), bool(3.14159), bool(-3), bool(1.0+1j))"
   ]
  },
  {
   "cell_type": "markdown",
   "id": "1a1d20a5-21aa-4acc-95dc-a0d3afc51293",
   "metadata": {},
   "source": [
    "Question 47 \n",
    "What is the output of the following code?"
   ]
  },
  {
   "cell_type": "code",
   "execution_count": 132,
   "id": "0e1ba728-507d-4321-aa8a-c72248e466d2",
   "metadata": {},
   "outputs": [
    {
     "ename": "NameError",
     "evalue": "name 'x1' is not defined",
     "output_type": "error",
     "traceback": [
      "\u001b[1;31m---------------------------------------------------------------------------\u001b[0m",
      "\u001b[1;31mNameError\u001b[0m                                 Traceback (most recent call last)",
      "Cell \u001b[1;32mIn[132], line 5\u001b[0m\n\u001b[0;32m      3\u001b[0m     \u001b[38;5;28;01mreturn\u001b[39;00m x \n\u001b[0;32m      4\u001b[0m func1() \n\u001b[1;32m----> 5\u001b[0m \u001b[38;5;28mprint\u001b[39m(x1)\n",
      "\u001b[1;31mNameError\u001b[0m: name 'x1' is not defined"
     ]
    }
   ],
   "source": [
    "def func1(): \n",
    "    x1 = 50 \n",
    "    return x \n",
    "func1() \n",
    "print(x1) # NameError: name 'x1' is not defined"
   ]
  },
  {
   "cell_type": "markdown",
   "id": "711f2fbc-5ae0-45df-8b83-fced3697aaa3",
   "metadata": {},
   "source": [
    "Question 48 \n",
    "What is the output of print(type({}) is set?"
   ]
  },
  {
   "cell_type": "code",
   "execution_count": 134,
   "id": "bc517ab3-bb57-41ad-9af4-85b72de9075a",
   "metadata": {},
   "outputs": [
    {
     "name": "stdout",
     "output_type": "stream",
     "text": [
      "<class 'dict'>\n"
     ]
    }
   ],
   "source": [
    "print(type({}))"
   ]
  },
  {
   "cell_type": "markdown",
   "id": "d639373b-dea6-46f1-b7f4-acc5d245e60c",
   "metadata": {},
   "source": [
    "Question 49 \n",
    "Please select the correct expression to reassign a global variable x to 20 inside a function fun1(): "
   ]
  },
  {
   "cell_type": "code",
   "execution_count": 136,
   "id": "2a288c1c-76cb-46c0-976c-10b3c0dff12a",
   "metadata": {},
   "outputs": [
    {
     "name": "stdout",
     "output_type": "stream",
     "text": [
      "20\n"
     ]
    }
   ],
   "source": [
    "x = 50 \n",
    "def fun1(): \n",
    "    global x\n",
    "    x = 20\n",
    "fun1() \n",
    "print(x) # it should print 20 "
   ]
  },
  {
   "cell_type": "markdown",
   "id": "a1841c6b-1e05-4dbf-aee8-41acb5df31f8",
   "metadata": {},
   "source": [
    "Question 50 \n",
    "Select all the valid string creation in Python:"
   ]
  },
  {
   "cell_type": "code",
   "execution_count": 140,
   "id": "e5028c1d-5695-4831-a4a7-272c5f786ccd",
   "metadata": {},
   "outputs": [],
   "source": [
    "str1 = 'str1' # valid\n",
    "str2 = \"str2\" # valid\n",
    "str3 = '''str3''' #valid\n",
    "str4 = 'str14' #valid"
   ]
  },
  {
   "cell_type": "code",
   "execution_count": 141,
   "id": "acc37727-06a9-4950-ad9b-42357896535c",
   "metadata": {},
   "outputs": [
    {
     "data": {
      "text/plain": [
       "'str3'"
      ]
     },
     "execution_count": 141,
     "metadata": {},
     "output_type": "execute_result"
    }
   ],
   "source": [
    "str3"
   ]
  },
  {
   "cell_type": "markdown",
   "id": "aca50582-8e14-4f47-a62a-c9d02a81a901",
   "metadata": {},
   "source": [
    "Question 51 \n",
    "In Python 3, what is the output of type(range(5))? (What data type will it return). "
   ]
  },
  {
   "cell_type": "code",
   "execution_count": 142,
   "id": "43977805-8ad1-4ff5-b856-e130a6e60e59",
   "metadata": {},
   "outputs": [
    {
     "data": {
      "text/plain": [
       "range"
      ]
     },
     "execution_count": 142,
     "metadata": {},
     "output_type": "execute_result"
    }
   ],
   "source": [
    "type(range(5))"
   ]
  },
  {
   "cell_type": "markdown",
   "id": "83bd8255-615c-4565-8bef-002178089c64",
   "metadata": {},
   "source": [
    "Question 52 \n",
    "What is the data type of print(type(10))? "
   ]
  },
  {
   "cell_type": "code",
   "execution_count": 143,
   "id": "35f3b070-348f-4bbe-81b0-379c13efa26f",
   "metadata": {},
   "outputs": [
    {
     "name": "stdout",
     "output_type": "stream",
     "text": [
      "<class 'int'>\n"
     ]
    }
   ],
   "source": [
    "print(type(10))"
   ]
  },
  {
   "cell_type": "code",
   "execution_count": 144,
   "id": "302572dd-22f8-46b1-b4fe-9745a819a56f",
   "metadata": {},
   "outputs": [
    {
     "data": {
      "text/plain": [
       "int"
      ]
     },
     "execution_count": 144,
     "metadata": {},
     "output_type": "execute_result"
    }
   ],
   "source": [
    "#Q53. What is the data type of the variable “x” in the following code snippet? \n",
    "x = 5\n",
    "type(x)"
   ]
  },
  {
   "cell_type": "markdown",
   "id": "a9c166f9-ff9c-4d35-af07-d07a76d2aee6",
   "metadata": {},
   "source": [
    "Q54. What will be the output of the following code snippet? "
   ]
  },
  {
   "cell_type": "code",
   "execution_count": 145,
   "id": "9b2f03f4-d37f-4455-b709-8ae783b9eace",
   "metadata": {},
   "outputs": [
    {
     "name": "stdout",
     "output_type": "stream",
     "text": [
      "<class 'str'>\n"
     ]
    }
   ],
   "source": [
    "x = \"Hello\"   \n",
    "print(type(x)) "
   ]
  },
  {
   "cell_type": "markdown",
   "id": "ae2adf38-66c9-474e-89f2-a6a06339d659",
   "metadata": {},
   "source": [
    "Q55. Which data type in Python is used to store a sequence of characters?"
   ]
  },
  {
   "cell_type": "code",
   "execution_count": 146,
   "id": "276c93a7-5366-4ab8-856b-de94396c60ca",
   "metadata": {},
   "outputs": [
    {
     "data": {
      "text/plain": [
       "str"
      ]
     },
     "execution_count": 146,
     "metadata": {},
     "output_type": "execute_result"
    }
   ],
   "source": [
    "str"
   ]
  },
  {
   "cell_type": "markdown",
   "id": "7f52ba93-bb65-4390-b5e3-c86c962700f1",
   "metadata": {},
   "source": [
    "Q56. What is the output of the following code snippet?  "
   ]
  },
  {
   "cell_type": "code",
   "execution_count": 148,
   "id": "4fa5f842-b6fd-49a4-a08d-3fe4e6802ced",
   "metadata": {},
   "outputs": [
    {
     "name": "stdout",
     "output_type": "stream",
     "text": [
      "<class 'float'>\n"
     ]
    }
   ],
   "source": [
    "x = 3.14 \n",
    "print(type(x)) "
   ]
  },
  {
   "cell_type": "markdown",
   "id": "1f2fce48-ab59-4a23-a006-19a47d1a3c20",
   "metadata": {},
   "source": [
    "Q57. Which data type is used to store a collection of items, where each item is indexed by a key?"
   ]
  },
  {
   "cell_type": "code",
   "execution_count": 149,
   "id": "28bffd77-fd10-4096-a696-8f9134077df0",
   "metadata": {},
   "outputs": [],
   "source": [
    "#Dictionary "
   ]
  },
  {
   "cell_type": "markdown",
   "id": "96423eeb-b394-4396-9d1a-8dba052ddf69",
   "metadata": {},
   "source": [
    "Q58. What will be the output of the following code snippet? "
   ]
  },
  {
   "cell_type": "code",
   "execution_count": 154,
   "id": "0a376a39-54c0-4619-acbf-26b0ac1bc995",
   "metadata": {},
   "outputs": [
    {
     "name": "stdout",
     "output_type": "stream",
     "text": [
      "30\n"
     ]
    }
   ],
   "source": [
    "x = 10   \n",
    "y = \"20\"   \n",
    "print(x + int(y))"
   ]
  },
  {
   "cell_type": "markdown",
   "id": "b9536146-cb81-4c95-a3ff-1f201ee77fbf",
   "metadata": {},
   "source": [
    "Q59. Which data type in Python is mutable? \n"
   ]
  },
  {
   "cell_type": "raw",
   "id": "0e9a8a14-e698-4015-9f01-3e91a045e5e6",
   "metadata": {},
   "source": [
    "a) String \n",
    "b) Tuple \n",
    "c) Set → Mutable → ✅\n",
    "d) List → Mutable → ✅"
   ]
  },
  {
   "cell_type": "markdown",
   "id": "94f8b960-aa1c-487e-80e5-38407095aae7",
   "metadata": {},
   "source": [
    "Q60. What will be the output of the following code snippet? "
   ]
  },
  {
   "cell_type": "code",
   "execution_count": 155,
   "id": "8d021397-ae1a-42e6-a7ed-f9fc59783c3e",
   "metadata": {},
   "outputs": [
    {
     "name": "stdout",
     "output_type": "stream",
     "text": [
      "<class 'set'>\n"
     ]
    }
   ],
   "source": [
    "x = {\"apple\", \"banana\", \"cherry\"}   \n",
    "print(type(x))"
   ]
  },
  {
   "cell_type": "markdown",
   "id": "db3220f9-9acd-474c-97bb-e04856abcd39",
   "metadata": {},
   "source": [
    "Q61. Which data type is used to store a collection of items, where each item is unique and unordered? \n"
   ]
  },
  {
   "cell_type": "raw",
   "id": "ba293d40-88c0-4fdf-b5c7-0b383cc5e487",
   "metadata": {},
   "source": [
    "a) List \n",
    "b) Tuple \n",
    "c) Set → Unordered and stores only unique items → ✅\n",
    "d) Dictionary "
   ]
  },
  {
   "cell_type": "markdown",
   "id": "6e2bbbfd-c6fa-4185-bfeb-e1c91b6797d8",
   "metadata": {},
   "source": [
    "Q62. What is the output of the following code snippet?   "
   ]
  },
  {
   "cell_type": "code",
   "execution_count": 157,
   "id": "dff173ac-73c3-40c4-869d-e777aedabc42",
   "metadata": {},
   "outputs": [
    {
     "name": "stdout",
     "output_type": "stream",
     "text": [
      "<class 'dict'>\n"
     ]
    }
   ],
   "source": [
    "x = {\"name\": \"John\", \"age\": 30}   \n",
    "print(type(x)) "
   ]
  },
  {
   "cell_type": "markdown",
   "id": "5fda104b-3270-42a0-8509-ca9f38ab20cb",
   "metadata": {},
   "source": [
    "Q63. What is the data type of the variable “x” in the following code snippet? "
   ]
  },
  {
   "cell_type": "code",
   "execution_count": 159,
   "id": "432c9d81-5a04-4009-b57f-1ef6a746eb6f",
   "metadata": {},
   "outputs": [
    {
     "data": {
      "text/plain": [
       "bool"
      ]
     },
     "execution_count": 159,
     "metadata": {},
     "output_type": "execute_result"
    }
   ],
   "source": [
    "x = True\n",
    "type(x)"
   ]
  },
  {
   "cell_type": "markdown",
   "id": "0d09adc1-edeb-44a1-ac07-0322596c25b2",
   "metadata": {},
   "source": [
    "Q64. What will be the output of the following code snippet?   "
   ]
  },
  {
   "cell_type": "code",
   "execution_count": 160,
   "id": "df62cd28-0bc3-48fa-9b52-78c1e0c89421",
   "metadata": {},
   "outputs": [
    {
     "name": "stdout",
     "output_type": "stream",
     "text": [
      "<class 'list'>\n"
     ]
    }
   ],
   "source": [
    "x = [1, 2, 3]   \n",
    "print(type(x))"
   ]
  },
  {
   "cell_type": "raw",
   "id": "0e66bace-f167-4d3d-9b1d-41ecb3fed3d7",
   "metadata": {},
   "source": [
    "Q65. Which data type is used to store a collection of items, where each item is indexed by a numerical \n",
    "index? \n",
    "a) List → Ordered collection, items accessed by numerical index → ✅\n",
    "b) Tuple → Ordered collection, items accessed by numerical index → ✅\n",
    "c) Set → Unordered, no indexing → ❌\n",
    "d) Dictionary → Indexed by keys, not numbers → ❌"
   ]
  },
  {
   "cell_type": "raw",
   "id": "520a76b4-91d4-4d81-bd4e-4ea9711b38f6",
   "metadata": {},
   "source": [
    "Q66. Which of the following statements about Python strings is true? \n",
    "a) Strings in Python are mutable.  \n",
    "b) Strings can only contain numeric characters. \n",
    "c) Strings can be concatenated using the “+” operator. #true\n",
    "d) Strings can be accessed by numerical indices. #ture"
   ]
  },
  {
   "cell_type": "markdown",
   "id": "d7515584-daee-4238-8a82-7fd13678336c",
   "metadata": {},
   "source": [
    "Q67. Which data type in Python is immutable? "
   ]
  },
  {
   "cell_type": "raw",
   "id": "e9e9f3fa-76f6-4dab-a8d2-8ae5279ed262",
   "metadata": {},
   "source": [
    "a) List \n",
    "b) Tuple ==>immutable #Note: You cannot change, add, or remove elements from a tuple once it is created.\n",
    "c) Set  \n",
    "d) Dictionary "
   ]
  },
  {
   "cell_type": "markdown",
   "id": "862a328b-8324-41b5-aa0d-944501705e04",
   "metadata": {},
   "source": [
    "Q68. What will be the output of the following code snippet? "
   ]
  },
  {
   "cell_type": "code",
   "execution_count": 162,
   "id": "5bf58f50-6d99-428e-860a-255d0af0f7ad",
   "metadata": {},
   "outputs": [
    {
     "name": "stdout",
     "output_type": "stream",
     "text": [
      "1020\n"
     ]
    }
   ],
   "source": [
    "x = 10   \n",
    "y = \"20\"   \n",
    "print(str(x) + y) "
   ]
  },
  {
   "cell_type": "markdown",
   "id": "4d153655-bdb3-4691-8dbd-76d1bff5b3b6",
   "metadata": {},
   "source": [
    "Q69. What is the output of the following code snippet?  "
   ]
  },
  {
   "cell_type": "code",
   "execution_count": 165,
   "id": "80cc6bc0-52b0-48a3-b65b-268dbf36f62e",
   "metadata": {},
   "outputs": [
    {
     "name": "stdout",
     "output_type": "stream",
     "text": [
      "[1, 2, 3]\n"
     ]
    }
   ],
   "source": [
    "x = [1, 2, 3]   \n",
    "y = x.copy()   \n",
    "x.append(4)  \n",
    "print(y)"
   ]
  },
  {
   "cell_type": "code",
   "execution_count": 164,
   "id": "931f992a-7c74-4423-a429-567229564b8f",
   "metadata": {},
   "outputs": [
    {
     "data": {
      "text/plain": [
       "[1, 2, 3, 4]"
      ]
     },
     "execution_count": 164,
     "metadata": {},
     "output_type": "execute_result"
    }
   ],
   "source": [
    "x"
   ]
  },
  {
   "cell_type": "code",
   "execution_count": 166,
   "id": "8a9d7690-bc7b-4b80-bdd6-db93b65d44b3",
   "metadata": {},
   "outputs": [
    {
     "data": {
      "text/plain": [
       "[1, 2, 3]"
      ]
     },
     "execution_count": 166,
     "metadata": {},
     "output_type": "execute_result"
    }
   ],
   "source": [
    "y"
   ]
  },
  {
   "cell_type": "markdown",
   "id": "7f2d056e-0476-4f39-8454-c981d96f36fc",
   "metadata": {},
   "source": [
    "Q70. What will be the output of the following code snippet? "
   ]
  },
  {
   "cell_type": "code",
   "execution_count": 168,
   "id": "bd5f2be4-9f65-4b26-892e-210a56e369dd",
   "metadata": {},
   "outputs": [
    {
     "name": "stdout",
     "output_type": "stream",
     "text": [
      "{'b', 'c'}\n"
     ]
    }
   ],
   "source": [
    "x = {\"a\", \"b\", \"c\"}   \n",
    "y = {\"b\", \"c\", \"d\"}   \n",
    "z = x & y   \n",
    "print(z)  "
   ]
  },
  {
   "cell_type": "markdown",
   "id": "070182f2-21b5-4095-b9ff-28d926be1209",
   "metadata": {},
   "source": [
    "Q71. What is the output of the following code snippet?  "
   ]
  },
  {
   "cell_type": "code",
   "execution_count": 169,
   "id": "6f60f12e-a14e-4a36-b09c-10fc5f374591",
   "metadata": {},
   "outputs": [
    {
     "name": "stdout",
     "output_type": "stream",
     "text": [
      "20 10\n"
     ]
    }
   ],
   "source": [
    "x = 10   \n",
    "y = 20   \n",
    "x, y = y, x   \n",
    "print(x, y) "
   ]
  },
  {
   "cell_type": "markdown",
   "id": "98d10e88-0985-49b9-a654-ecdd6bd0a634",
   "metadata": {},
   "source": [
    "Q72. What will be the output of the following code snippet?    "
   ]
  },
  {
   "cell_type": "code",
   "execution_count": 172,
   "id": "20945e57-11c4-4b22-87de-bd001c486e45",
   "metadata": {},
   "outputs": [
    {
     "name": "stdout",
     "output_type": "stream",
     "text": [
      "{'a': 1, 'b': 3, 'c': 4}\n"
     ]
    }
   ],
   "source": [
    "x = {\"a\": 1, \"b\": 2}   \n",
    "y = {\"b\": 3, \"c\": 4}   \n",
    "z = {**x, **y}  # merges two dictionaries.The ** operator unpacks the key–value pairs from each dictionary. \n",
    "print(z)"
   ]
  },
  {
   "cell_type": "raw",
   "id": "12f1bd08-fdab-4024-89f5-e7e9d18e6fda",
   "metadata": {},
   "source": [
    "Q73. Which data type in Python represents a sequence of characters? \n",
    "a) Integer \n",
    "b) Float \n",
    "c) String     #str\n",
    "d) Boolean "
   ]
  },
  {
   "cell_type": "markdown",
   "id": "e81d354e-dd68-4c4c-a8ac-a8e0b099256b",
   "metadata": {},
   "source": [
    "Q74. What will be the output of the following code snippet?"
   ]
  },
  {
   "cell_type": "code",
   "execution_count": 173,
   "id": "fcaee515-1b36-40b5-8dd4-87b43df8b941",
   "metadata": {},
   "outputs": [
    {
     "name": "stdout",
     "output_type": "stream",
     "text": [
      "set()\n"
     ]
    }
   ],
   "source": [
    "x = {1, 2, 3}   \n",
    "x.clear()   \n",
    "print(x)"
   ]
  },
  {
   "cell_type": "markdown",
   "id": "30cf2431-8723-4859-90a5-99f74f059701",
   "metadata": {},
   "source": [
    "Q76. What will be the output of the following code snippet?"
   ]
  },
  {
   "cell_type": "code",
   "execution_count": 174,
   "id": "edaa892a-bb5b-4a86-89f7-0c344f4ed024",
   "metadata": {},
   "outputs": [
    {
     "name": "stdout",
     "output_type": "stream",
     "text": [
      "HELLO\n"
     ]
    }
   ],
   "source": [
    "x = \"hello\"   \n",
    "y = x.upper()   \n",
    "print(y)  "
   ]
  },
  {
   "cell_type": "code",
   "execution_count": null,
   "id": "4bc1df96-b4e0-4f6e-bd59-dba18392d8ca",
   "metadata": {},
   "outputs": [],
   "source": [
    "Q77. Which data type in Python is used to store a collection of items, where each item is indexed by a \n",
    "key? \n",
    "a) List \n",
    "b) Tuple \n",
    "c) Set \n",
    "d) Dictionary # Dictionary → Stores key–value pairs, accessed using keys → ✅"
   ]
  },
  {
   "cell_type": "markdown",
   "id": "3606e83c-d060-4e07-87a5-a4612a266914",
   "metadata": {},
   "source": [
    "Q78. What is the output of the following code snippet? "
   ]
  },
  {
   "cell_type": "code",
   "execution_count": 181,
   "id": "87f9898c-9f63-4aae-8037-2566d36cf741",
   "metadata": {},
   "outputs": [
    {
     "name": "stdout",
     "output_type": "stream",
     "text": [
      "heLlo\n"
     ]
    }
   ],
   "source": [
    "x = \"hello\"\n",
    "y = x.replace(\"l\", \"L\", 1)\n",
    "print(y)"
   ]
  },
  {
   "cell_type": "markdown",
   "id": "ec928ca9-2abe-42e8-ad54-71aa8cb3aefd",
   "metadata": {},
   "source": [
    "Q79. What is the output of the following code snippet? "
   ]
  },
  {
   "cell_type": "code",
   "execution_count": 182,
   "id": "433773ca-cde1-4c34-bcfa-1e1efe794001",
   "metadata": {},
   "outputs": [
    {
     "name": "stdout",
     "output_type": "stream",
     "text": [
      "(1, 2, [5, 4])\n"
     ]
    }
   ],
   "source": [
    "x = (1, 2, [3, 4])   \n",
    "x[2][0] = 5   \n",
    "print(x) "
   ]
  },
  {
   "cell_type": "markdown",
   "id": "298c61c9-ad83-4775-b8f8-2e2ae616c5b3",
   "metadata": {},
   "source": [
    "Q80. What will be the output of the following code snippet?"
   ]
  },
  {
   "cell_type": "code",
   "execution_count": 185,
   "id": "59d45d4d-cc54-4f12-a526-ee59a9a9e9ab",
   "metadata": {},
   "outputs": [
    {
     "name": "stdout",
     "output_type": "stream",
     "text": [
      "John\n"
     ]
    }
   ],
   "source": [
    "x = {\"name\": \"John\", \"age\": 30}\n",
    "print(x[\"address\"]) # KeyError: 'address'\n",
    "#print(x[\"name\"]) #John"
   ]
  },
  {
   "cell_type": "raw",
   "id": "1dee2754-5b4d-4704-851b-6ef65488cf43",
   "metadata": {},
   "source": [
    "Q81. Which data type in Python is used to store a collection of items, where each item is unique and \n",
    "unordered? \n",
    "a) List \n",
    "b) Tuple \n",
    "c) Set # set\n",
    "d) Dictionary"
   ]
  },
  {
   "cell_type": "markdown",
   "id": "50435ca5-3a39-4b28-828e-6cb8af4af58a",
   "metadata": {},
   "source": [
    "Q82. What is the output of the following code snippet?"
   ]
  },
  {
   "cell_type": "code",
   "execution_count": 186,
   "id": "6ba200b7-4e96-4e28-a576-0d20132c2d61",
   "metadata": {},
   "outputs": [
    {
     "name": "stdout",
     "output_type": "stream",
     "text": [
      "[1, 2, 3]\n"
     ]
    }
   ],
   "source": [
    "x = [1, 2, 3]   \n",
    "y = x[:]   \n",
    "x[0] = 4   # update value\n",
    "print(y) "
   ]
  },
  {
   "cell_type": "code",
   "execution_count": 187,
   "id": "d7e0a07b-4ef0-4872-bffe-5943e72eb59c",
   "metadata": {},
   "outputs": [
    {
     "data": {
      "text/plain": [
       "[4, 2, 3]"
      ]
     },
     "execution_count": 187,
     "metadata": {},
     "output_type": "execute_result"
    }
   ],
   "source": [
    "x"
   ]
  },
  {
   "cell_type": "markdown",
   "id": "72f743c0-ff25-41f3-8f2c-460d2a63dde9",
   "metadata": {},
   "source": [
    "Q83. What is the output of the following code snippet?  "
   ]
  },
  {
   "cell_type": "code",
   "execution_count": 188,
   "id": "c7214258-c957-4109-94f8-b617ae1bccb1",
   "metadata": {},
   "outputs": [
    {
     "ename": "SyntaxError",
     "evalue": "invalid character '“' (U+201C) (3048900094.py, line 1)",
     "output_type": "error",
     "traceback": [
      "\u001b[1;36m  Cell \u001b[1;32mIn[188], line 1\u001b[1;36m\u001b[0m\n\u001b[1;33m    x = {“name”: “John”, “age”: 30}\u001b[0m\n\u001b[1;37m         ^\u001b[0m\n\u001b[1;31mSyntaxError\u001b[0m\u001b[1;31m:\u001b[0m invalid character '“' (U+201C)\n"
     ]
    }
   ],
   "source": [
    "x = {“name”: “John”, “age”: 30}   \n",
    "y = x.copy()   \n",
    "x[“name”] = “Jane”   \n",
    "print(y[“name”]) "
   ]
  },
  {
   "cell_type": "markdown",
   "id": "9eb60b8e-71ec-4d99-8e59-a7b8134459ed",
   "metadata": {},
   "source": [
    "Q84. What will be the output of the following code snippet?  "
   ]
  },
  {
   "cell_type": "code",
   "execution_count": 193,
   "id": "b9a14eff-78ee-4470-94e0-17cec1156586",
   "metadata": {},
   "outputs": [
    {
     "name": "stdout",
     "output_type": "stream",
     "text": [
      "cherry\n"
     ]
    }
   ],
   "source": [
    "x = {\"apple\", \"banana\", \"cherry\"}   \n",
    "y = x.pop()   \n",
    "print(y) "
   ]
  },
  {
   "cell_type": "code",
   "execution_count": null,
   "id": "317014dc-b213-41ae-964b-84dd487f345a",
   "metadata": {},
   "outputs": [],
   "source": [
    "Q85. Which data type in Python is used to store a collection of items, where each item is indexed by a \n",
    "numerical index? \n",
    "a) List → ✅ Ordered and indexed by numerical indices (e.g., mylist[0])\n",
    "b) Tuple → ✅ Also ordered and indexed by numerical indices, but immutable\n",
    "c) Set → ❌ Unordered, no indexing\n",
    "d) Dictionary → ❌ Indexed by keys, not numbers (unless keys are numbers explicitly)"
   ]
  },
  {
   "cell_type": "markdown",
   "id": "b265fd3f-9782-4517-9d51-1650f7b21e09",
   "metadata": {},
   "source": [
    "Q86. What is the output of the following code snippet? "
   ]
  },
  {
   "cell_type": "code",
   "execution_count": 196,
   "id": "2d86cd8a-15c7-44cf-a44c-05963b1cd906",
   "metadata": {},
   "outputs": [
    {
     "name": "stdout",
     "output_type": "stream",
     "text": [
      "[1, 4, 2, 3]\n"
     ]
    }
   ],
   "source": [
    "x = [1, 2, 3]   \n",
    "x.insert(1, 4)  \n",
    "print(x) "
   ]
  },
  {
   "cell_type": "markdown",
   "id": "4fe5fc97-110d-4946-a87f-1cc885a4a98d",
   "metadata": {},
   "source": [
    "Q87. What will be the output of the following code snippet?"
   ]
  },
  {
   "cell_type": "code",
   "execution_count": 197,
   "id": "1d6c5bbc-2b87-478e-a194-4f841a63df7e",
   "metadata": {},
   "outputs": [
    {
     "name": "stdout",
     "output_type": "stream",
     "text": [
      "{'c', 'a'}\n"
     ]
    }
   ],
   "source": [
    "x = {\"a\", \"b\", \"c\"}   \n",
    "y = x - {\"b\"}   \n",
    "print(y)"
   ]
  },
  {
   "cell_type": "markdown",
   "id": "27d3b354-c08e-4455-8a8b-4261bff2cc1c",
   "metadata": {},
   "source": [
    "Q88. What is the output of the following code snippet? "
   ]
  },
  {
   "cell_type": "code",
   "execution_count": 199,
   "id": "fb378647-84b2-4683-88b5-299af3e52c0d",
   "metadata": {},
   "outputs": [
    {
     "name": "stdout",
     "output_type": "stream",
     "text": [
      "{1, 2, 3, 4}\n"
     ]
    }
   ],
   "source": [
    "x = {1, 2, 3}   \n",
    "y = x.add(4)  \n",
    "print(x)  "
   ]
  },
  {
   "cell_type": "markdown",
   "id": "2a1d9839-c64d-4e25-8029-6546b1f54141",
   "metadata": {},
   "source": [
    "Q89. What is the data type of the variable “x” in the following code snippet?   "
   ]
  },
  {
   "cell_type": "code",
   "execution_count": 200,
   "id": "e87bd6af-8bef-4d10-99d6-ef49c7b8e0b3",
   "metadata": {},
   "outputs": [
    {
     "data": {
      "text/plain": [
       "list"
      ]
     },
     "execution_count": 200,
     "metadata": {},
     "output_type": "execute_result"
    }
   ],
   "source": [
    "x = [1, 2, 3]\n",
    "type(x)"
   ]
  },
  {
   "cell_type": "raw",
   "id": "893ee528-6f80-4051-929f-1c54b6cb5183",
   "metadata": {},
   "source": [
    "Q90. Which data type in Python is used to store a sequence of items, where each item is ordered and \n",
    "can be changed? \n",
    "a) List # → ✅ Ordered and mutable (can be changed)\n",
    "b) Tuple \n",
    "c) Set \n",
    "d) Dictionary \n",
    " \n",
    "str1 = \"str1\"\" #✅ Correct: str1 = \"str1\"\n",
    "str1 = '''str1'' \n",
    "E. str1 = str(Jessa) "
   ]
  },
  {
   "cell_type": "code",
   "execution_count": null,
   "id": "b82fe40c-11ab-4356-9f8c-94d164b5ddf3",
   "metadata": {},
   "outputs": [],
   "source": []
  }
 ],
 "metadata": {
  "kernelspec": {
   "display_name": "Python 3 (ipykernel)",
   "language": "python",
   "name": "python3"
  },
  "language_info": {
   "codemirror_mode": {
    "name": "ipython",
    "version": 3
   },
   "file_extension": ".py",
   "mimetype": "text/x-python",
   "name": "python",
   "nbconvert_exporter": "python",
   "pygments_lexer": "ipython3",
   "version": "3.13.5"
  }
 },
 "nbformat": 4,
 "nbformat_minor": 5
}
