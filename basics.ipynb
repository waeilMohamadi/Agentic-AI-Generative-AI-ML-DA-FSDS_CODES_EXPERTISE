{
 "cells": [
  {
   "cell_type": "markdown",
   "id": "48868345-6bbb-4b12-be00-33d653fee1b6",
   "metadata": {},
   "source": [
    "Python Tutorial"
   ]
  },
  {
   "cell_type": "markdown",
   "id": "ec9c6579-95b2-48ca-8b16-6cf9365821df",
   "metadata": {},
   "source": [
    "Keywords "
   ]
  },
  {
   "cell_type": "code",
   "execution_count": 1,
   "id": "97c6990a-9844-4269-b81b-19b514cce444",
   "metadata": {},
   "outputs": [
    {
     "name": "stdout",
     "output_type": "stream",
     "text": [
      "['False', 'None', 'True', 'and', 'as', 'assert', 'async', 'await', 'break', 'class', 'continue', 'def', 'del', 'elif', 'else', 'except', 'finally', 'for', 'from', 'global', 'if', 'import', 'in', 'is', 'lambda', 'nonlocal', 'not', 'or', 'pass', 'raise', 'return', 'try', 'while', 'with', 'yield']\n"
     ]
    }
   ],
   "source": [
    "import keyword\n",
    "print(keyword.kwlist)"
   ]
  },
  {
   "cell_type": "markdown",
   "id": "646aade4-cda4-48cd-94dd-09e636d4af4c",
   "metadata": {},
   "source": [
    "PYTHON VERSION"
   ]
  },
  {
   "cell_type": "code",
   "execution_count": 3,
   "id": "a9b733fc-ea74-4e30-8ea7-c60d399b4bbf",
   "metadata": {},
   "outputs": [
    {
     "name": "stdout",
     "output_type": "stream",
     "text": [
      "3.13.5 | packaged by Anaconda, Inc. | (main, Jun 12 2025, 16:37:03) [MSC v.1929 64 bit (AMD64)]\n"
     ]
    }
   ],
   "source": [
    "import sys\n",
    "print(sys.version)"
   ]
  },
  {
   "cell_type": "markdown",
   "id": "59d811ec-73eb-4d90-9efd-44c04788af63",
   "metadata": {},
   "source": [
    "#Identifiers: \n",
    "An identifier is a name given to entities like class, functions, variables, etc. It helps to ----differentiate one entity from another."
   ]
  },
  {
   "cell_type": "code",
   "execution_count": 5,
   "id": "eec49890-3832-4e7b-a939-c8218802ef79",
   "metadata": {},
   "outputs": [
    {
     "name": "stdout",
     "output_type": "stream",
     "text": [
      "10\n"
     ]
    }
   ],
   "source": [
    "v=10 #valid\n",
    "print(v)"
   ]
  },
  {
   "cell_type": "code",
   "execution_count": 11,
   "id": "5e11cae7-8d53-4ba3-8fdc-5e546c3caccb",
   "metadata": {},
   "outputs": [
    {
     "ename": "SyntaxError",
     "evalue": "invalid decimal literal (2866983802.py, line 1)",
     "output_type": "error",
     "traceback": [
      "\u001b[1;36m  Cell \u001b[1;32mIn[11], line 1\u001b[1;36m\u001b[0m\n\u001b[1;33m    1v=20 #invalid\u001b[0m\n\u001b[1;37m    ^\u001b[0m\n\u001b[1;31mSyntaxError\u001b[0m\u001b[1;31m:\u001b[0m invalid decimal literal\n"
     ]
    }
   ],
   "source": [
    "1v=20 #invalid\n",
    "print(1v)"
   ]
  },
  {
   "cell_type": "code",
   "execution_count": 7,
   "id": "b8913f35-2422-4a7c-8fa5-3d86edad9e8b",
   "metadata": {},
   "outputs": [
    {
     "name": "stdout",
     "output_type": "stream",
     "text": [
      "20\n"
     ]
    }
   ],
   "source": [
    "v123=20 #valid\n",
    "print(v123)"
   ]
  },
  {
   "cell_type": "code",
   "execution_count": 8,
   "id": "9bb012a4-fe25-473b-b08a-7d80a29e0597",
   "metadata": {},
   "outputs": [
    {
     "ename": "SyntaxError",
     "evalue": "invalid syntax. Maybe you meant '==' or ':=' instead of '='? (835617006.py, line 1)",
     "output_type": "error",
     "traceback": [
      "\u001b[1;36m  Cell \u001b[1;32mIn[8], line 1\u001b[1;36m\u001b[0m\n\u001b[1;33m    @v=20 #invalid\u001b[0m\n\u001b[1;37m     ^\u001b[0m\n\u001b[1;31mSyntaxError\u001b[0m\u001b[1;31m:\u001b[0m invalid syntax. Maybe you meant '==' or ':=' instead of '='?\n"
     ]
    }
   ],
   "source": [
    "@v=20 #invalid\n",
    "print(@v)"
   ]
  },
  {
   "cell_type": "code",
   "execution_count": 9,
   "id": "42abf5c6-5026-4cf5-afe5-e809673eb52a",
   "metadata": {},
   "outputs": [
    {
     "ename": "SyntaxError",
     "evalue": "cannot assign to expression here. Maybe you meant '==' instead of '='? (1256737649.py, line 1)",
     "output_type": "error",
     "traceback": [
      "\u001b[1;36m  Cell \u001b[1;32mIn[9], line 1\u001b[1;36m\u001b[0m\n\u001b[1;33m    v@123=20\u001b[0m\n\u001b[1;37m    ^\u001b[0m\n\u001b[1;31mSyntaxError\u001b[0m\u001b[1;31m:\u001b[0m cannot assign to expression here. Maybe you meant '==' instead of '='?\n"
     ]
    }
   ],
   "source": [
    "v@123=20 #invalid\n",
    "print(v@123)"
   ]
  },
  {
   "cell_type": "code",
   "execution_count": 10,
   "id": "63865b10-e3c8-4f01-9eaa-f12917e4db74",
   "metadata": {},
   "outputs": [
    {
     "name": "stdout",
     "output_type": "stream",
     "text": [
      "20\n"
     ]
    }
   ],
   "source": [
    "v_123=20 #valid\n",
    "print(v_123)"
   ]
  },
  {
   "cell_type": "markdown",
   "id": "e99a26cb-4232-4755-9a2c-13110f7c12b8",
   "metadata": {},
   "source": [
    "Comments in Python "
   ]
  },
  {
   "cell_type": "code",
   "execution_count": 13,
   "id": "9b50a16b-71ab-494f-a89a-464409b4c48e",
   "metadata": {},
   "outputs": [],
   "source": [
    "#single line comment\n",
    "v=30\n",
    "\"\"\"multiple line\n",
    "   comments\n",
    "\"\"\"\n",
    "v3=30\n",
    "'''multiple line comments'''\n",
    "v4=40"
   ]
  },
  {
   "cell_type": "markdown",
   "id": "10c4d1b1-8141-4851-b280-09d1f36627e2",
   "metadata": {},
   "source": [
    "Variable Assigment"
   ]
  },
  {
   "cell_type": "code",
   "execution_count": 16,
   "id": "de6b74b5-e143-4a16-a095-5a2059bf3e70",
   "metadata": {},
   "outputs": [
    {
     "name": "stdout",
     "output_type": "stream",
     "text": [
      "10\n",
      "2.57\n",
      "Python Language\n"
     ]
    }
   ],
   "source": [
    "int123_var = 10 # Integer variable \n",
    "float_var = 2.57 # Float Variable \n",
    "str_var = \"Python Language\" # String variable \n",
    "print(int123_var) \n",
    "print(float_var) \n",
    "print(str_var)"
   ]
  },
  {
   "cell_type": "markdown",
   "id": "93d7601e-4699-427f-8dcc-074062d3cb56",
   "metadata": {},
   "source": [
    "Multiple Assignments "
   ]
  },
  {
   "cell_type": "code",
   "execution_count": 22,
   "id": "00c35c38-5bb7-48d6-bf8f-9b499e43565f",
   "metadata": {},
   "outputs": [
    {
     "name": "stdout",
     "output_type": "stream",
     "text": [
      "10\n",
      "20\n",
      "30\n",
      "40\n",
      "50\n",
      "Welcome to python\n"
     ]
    }
   ],
   "source": [
    "p,v,a,x,y,strvar,=10,20,30,40,50,\"Welcome to python\" # Using commas to separat \n",
    "print(p)\n",
    "print(v)\n",
    "print(a)\n",
    "print(x)\n",
    "print(y)\n",
    "print(strvar)"
   ]
  },
  {
   "cell_type": "code",
   "execution_count": 26,
   "id": "c271d298-3d73-4779-9796-d583fdb91cd9",
   "metadata": {},
   "outputs": [
    {
     "name": "stdout",
     "output_type": "stream",
     "text": [
      "77 77 77 77\n"
     ]
    }
   ],
   "source": [
    "p1=p2=p3=p4=77  # All variables pointing to same value \n",
    "print(p1,p2,p3,p4)"
   ]
  },
  {
   "cell_type": "markdown",
   "id": "d8df85f4-ed84-4f15-9400-f5ca61cb3c3e",
   "metadata": {},
   "source": [
    "Data Types"
   ]
  },
  {
   "cell_type": "code",
   "execution_count": 37,
   "id": "e99fcf81-df3a-426c-9374-59d66128c4d3",
   "metadata": {},
   "outputs": [
    {
     "name": "stdout",
     "output_type": "stream",
     "text": [
      "<class 'int'>\n",
      "<class 'float'>\n",
      "<class 'str'>\n",
      "False\n",
      "True\n",
      "<class 'bool'>\n",
      "<class 'complex'>\n"
     ]
    }
   ],
   "source": [
    "#NUMERIC\n",
    "v=55\n",
    "print(type(v))\n",
    "#FLOAT\n",
    "v_12=55.25\n",
    "print(type(v_12))\n",
    "#STRING(STR)\n",
    "v123_23=\"hELLO\"\n",
    "print(type(v123_23))\n",
    "#BOOL\n",
    "a=5\n",
    "b=2\n",
    "s=a>b\n",
    "print(bool(0))\n",
    "print(bool(1))\n",
    "print(type(s))\n",
    "#COMPLEX\n",
    "c=10+5j\n",
    "print(type(c))"
   ]
  },
  {
   "cell_type": "markdown",
   "id": "1a9e9d2b-0200-4aa5-b080-ee21ae9a16ed",
   "metadata": {},
   "source": [
    "String Creation "
   ]
  },
  {
   "cell_type": "code",
   "execution_count": 51,
   "id": "6d6d8e76-b575-4165-9864-ecf0098b4cca",
   "metadata": {},
   "outputs": [
    {
     "name": "stdout",
     "output_type": "stream",
     "text": [
      "Hello Houston\n",
      "H\n",
      "n\n",
      "u\n",
      "H\n",
      "Hello Houston\n"
     ]
    }
   ],
   "source": [
    "str1= \"Hello Houston\" #string creation\n",
    "print(str1)\n",
    "print(str1[0])  # forward indexing \n",
    "print(str1[-1]) # back indexing\n",
    "print(str1[-5]) # back indexing\n",
    "print(str1[6])  # forward indexing\n",
    "#SLICING IN STRING\n",
    "print(str1[0:]) #print everything from left to right\n"
   ]
  },
  {
   "cell_type": "markdown",
   "id": "6fec0cda-a39c-4539-b42b-f0360341279c",
   "metadata": {},
   "source": [
    "String Slicing"
   ]
  },
  {
   "cell_type": "code",
   "execution_count": 69,
   "id": "cdc478da-16de-44fc-a2ea-c447019e1062",
   "metadata": {},
   "outputs": [
    {
     "name": "stdout",
     "output_type": "stream",
     "text": [
      "Hello\n",
      "ston\n",
      "Hous\n",
      "Hello \n",
      "ello\n",
      "HloHu\n"
     ]
    }
   ],
   "source": [
    "print(str1[0:5]) # String slicing - Fetch all characters from 0 to 5 index location exc \n",
    "print(str1[-4:])  # Retreive last four characters of the string \n",
    "print(str1[-7:-3])\n",
    "print(str1[:6])\n",
    "print(str1[1:5])\n",
    "print(str1[0:9:2])"
   ]
  },
  {
   "cell_type": "markdown",
   "id": "39132c59-149a-48e0-84d3-7f331b390d62",
   "metadata": {},
   "source": [
    "Update & Delete String"
   ]
  },
  {
   "cell_type": "code",
   "execution_count": 72,
   "id": "557b8a61-fc65-4fc2-8955-c4c1193d7120",
   "metadata": {},
   "outputs": [
    {
     "ename": "TypeError",
     "evalue": "'str' object does not support item assignment",
     "output_type": "error",
     "traceback": [
      "\u001b[1;31m---------------------------------------------------------------------------\u001b[0m",
      "\u001b[1;31mTypeError\u001b[0m                                 Traceback (most recent call last)",
      "Cell \u001b[1;32mIn[72], line 1\u001b[0m\n\u001b[1;32m----> 1\u001b[0m str1[\u001b[38;5;241m0\u001b[39m:\u001b[38;5;241m5\u001b[39m]\u001b[38;5;241m=\u001b[39m\u001b[38;5;124m\"\u001b[39m\u001b[38;5;124mWaeil\u001b[39m\u001b[38;5;124m\"\u001b[39m \u001b[38;5;66;03m#Strings are immutable which means elements of a string cannot be changed once created\u001b[39;00m\n\u001b[0;32m      2\u001b[0m \u001b[38;5;28mprint\u001b[39m(str1)\n",
      "\u001b[1;31mTypeError\u001b[0m: 'str' object does not support item assignment"
     ]
    }
   ],
   "source": [
    "str1[0:5]=\"Waeil\" #Strings are immutable which means elements of a string cannot be changed once created\n",
    "print(str1)"
   ]
  },
  {
   "cell_type": "markdown",
   "id": "1f628c99-739f-4e05-8582-ea8e83acc077",
   "metadata": {},
   "source": [
    "String concatenation"
   ]
  },
  {
   "cell_type": "code",
   "execution_count": 78,
   "id": "064ad772-69ac-4be5-becb-7115f7e17c9e",
   "metadata": {},
   "outputs": [
    {
     "name": "stdout",
     "output_type": "stream",
     "text": [
      "HiWaeil"
     ]
    }
   ],
   "source": [
    "s1='Hi'\n",
    "s2='Waeil'\n",
    "print(s1 + s2)"
   ]
  },
  {
   "cell_type": "code",
   "execution_count": null,
   "id": "bc0f2fff-e67f-4984-886d-5c3da50269cd",
   "metadata": {},
   "outputs": [],
   "source": []
  },
  {
   "cell_type": "code",
   "execution_count": null,
   "id": "37aa4596-820c-4bae-a51b-f1d7938d9f4f",
   "metadata": {},
   "outputs": [],
   "source": []
  }
 ],
 "metadata": {
  "kernelspec": {
   "display_name": "Python 3 (ipykernel)",
   "language": "python",
   "name": "python3"
  },
  "language_info": {
   "codemirror_mode": {
    "name": "ipython",
    "version": 3
   },
   "file_extension": ".py",
   "mimetype": "text/x-python",
   "name": "python",
   "nbconvert_exporter": "python",
   "pygments_lexer": "ipython3",
   "version": "3.13.5"
  }
 },
 "nbformat": 4,
 "nbformat_minor": 5
}
