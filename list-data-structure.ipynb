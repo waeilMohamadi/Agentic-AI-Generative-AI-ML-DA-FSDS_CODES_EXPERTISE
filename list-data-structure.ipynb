{
 "cells": [
  {
   "cell_type": "markdown",
   "id": "2f61c9e4-1f80-4d3a-b43b-dbb77ed6c2d6",
   "metadata": {
    "jupyter": {
     "source_hidden": true
    }
   },
   "source": [
    "List,\n",
    "Tuple,\n",
    "Set,\n",
    "Dict,\n",
    "Range,"
   ]
  },
  {
   "cell_type": "markdown",
   "id": "0343645c-2ba6-4e2b-853b-19577fee863b",
   "metadata": {},
   "source": [
    "LIST DATA STRUCTURE"
   ]
  },
  {
   "cell_type": "code",
   "execution_count": 3,
   "id": "6ac43d8e-9028-4771-9fea-54e2c9c3da5e",
   "metadata": {},
   "outputs": [],
   "source": [
    "ls = [] #empty list"
   ]
  },
  {
   "cell_type": "code",
   "execution_count": 4,
   "id": "a276571e-ac6a-4466-a675-6693cca60dfd",
   "metadata": {},
   "outputs": [
    {
     "name": "stdout",
     "output_type": "stream",
     "text": [
      "[]\n"
     ]
    }
   ],
   "source": [
    "print(ls)"
   ]
  },
  {
   "cell_type": "markdown",
   "id": "b2bb9545-909a-4e6f-b862-2cd39ee8a579",
   "metadata": {},
   "source": [
    "-ADDING ELEMENTS TO an EMPTY LIST BY USING .append()"
   ]
  },
  {
   "cell_type": "code",
   "execution_count": 10,
   "id": "380e3992-63c2-4c1b-8713-488968fba83a",
   "metadata": {},
   "outputs": [
    {
     "name": "stdout",
     "output_type": "stream",
     "text": [
      "[10, 20, 40, 'Waeil', 55.25, True, 10]\n"
     ]
    }
   ],
   "source": [
    "ls.append(10)\n",
    "ls.append(20)\n",
    "ls.append(40)\n",
    "ls.append(\"Waeil\") #lis is mutable\n",
    "ls.append(55.25)\n",
    "ls.append(True) #homegenouse values allowed\n",
    "ls.append(10) #duplicate values allowed\n",
    "print(ls)"
   ]
  },
  {
   "cell_type": "markdown",
   "id": "35b4ff53-d4e4-4552-872b-5f9b888a2176",
   "metadata": {},
   "source": [
    "-COPYING ONE LIST INTO ANOTHER LIST BY USING .copy() function"
   ]
  },
  {
   "cell_type": "code",
   "execution_count": 12,
   "id": "0db4d6df-ee6f-4a82-9c41-27c9a54b2cf6",
   "metadata": {},
   "outputs": [
    {
     "data": {
      "text/plain": [
       "[10, 20, 40, 'Waeil', 55.25, True, 10]"
      ]
     },
     "execution_count": 12,
     "metadata": {},
     "output_type": "execute_result"
    }
   ],
   "source": [
    "ls2 = []\n",
    "ls\n"
   ]
  },
  {
   "cell_type": "code",
   "execution_count": 15,
   "id": "77dbdf3c-35db-49c1-afad-c712e9ff64f9",
   "metadata": {},
   "outputs": [
    {
     "data": {
      "text/plain": [
       "[10, 20, 40, 'Waeil', 55.25, True, 10]"
      ]
     },
     "execution_count": 15,
     "metadata": {},
     "output_type": "execute_result"
    }
   ],
   "source": [
    "ls2=ls.copy()\n",
    "ls2"
   ]
  },
  {
   "cell_type": "code",
   "execution_count": 16,
   "id": "0ca0679c-dd61-467a-b0fe-58a8daed4987",
   "metadata": {},
   "outputs": [
    {
     "name": "stdout",
     "output_type": "stream",
     "text": [
      "[10, 20, 40, 'Waeil', 55.25, True, 10]\n",
      "[10, 20, 40, 'Waeil', 55.25, True, 10]\n"
     ]
    }
   ],
   "source": [
    "print(ls)\n",
    "print(ls)"
   ]
  },
  {
   "cell_type": "code",
   "execution_count": 18,
   "id": "87f59140-453e-4432-83c7-dcacef589007",
   "metadata": {},
   "outputs": [
    {
     "data": {
      "text/plain": [
       "2"
      ]
     },
     "execution_count": 18,
     "metadata": {},
     "output_type": "execute_result"
    }
   ],
   "source": [
    "#USING count() method to count how many element repeat it self in the given list\n",
    "ls.count(10)\n"
   ]
  },
  {
   "cell_type": "code",
   "execution_count": 20,
   "id": "3ef9848c-092c-416e-92ec-e0df8a1cbd6d",
   "metadata": {},
   "outputs": [
    {
     "name": "stdout",
     "output_type": "stream",
     "text": [
      "[10, 20, 40, 'Waeil', 55.25, True, 10, 10, 20, 40, 'Waeil', 55.25, True, 10, 10, 20, 40, 'Waeil', 55.25, True, 10]\n"
     ]
    }
   ],
   "source": [
    "#Using extend() method \n",
    "ls2.extend(ls)\n",
    "print(ls2)"
   ]
  },
  {
   "cell_type": "code",
   "execution_count": 21,
   "id": "21dd82b1-8538-45ad-a9ca-6b941c88d1fe",
   "metadata": {},
   "outputs": [
    {
     "data": {
      "text/plain": [
       "[10, 20, 40, 'Waeil', 55.25, True, 10]"
      ]
     },
     "execution_count": 21,
     "metadata": {},
     "output_type": "execute_result"
    }
   ],
   "source": [
    "#USING index()\n",
    "ls"
   ]
  },
  {
   "cell_type": "code",
   "execution_count": 35,
   "id": "974e2e37-fe89-4627-8067-6d7a33b9c513",
   "metadata": {},
   "outputs": [
    {
     "data": {
      "text/plain": [
       "3"
      ]
     },
     "execution_count": 35,
     "metadata": {},
     "output_type": "execute_result"
    }
   ],
   "source": [
    "ls.index(10)\n",
    "ls.index('Waeil')"
   ]
  },
  {
   "cell_type": "code",
   "execution_count": 24,
   "id": "1e272ce5-667e-456f-b46c-79a5fa006944",
   "metadata": {},
   "outputs": [
    {
     "name": "stdout",
     "output_type": "stream",
     "text": [
      "7\n",
      "21\n"
     ]
    }
   ],
   "source": [
    "print(len(ls))\n",
    "print(len(ls2))\n"
   ]
  },
  {
   "cell_type": "markdown",
   "id": "5e967395-39cd-40db-904c-7991bc69c1d0",
   "metadata": {},
   "source": [
    "#USING LIST MEMBERSHIP (in , not in)"
   ]
  },
  {
   "cell_type": "code",
   "execution_count": 26,
   "id": "93f34f76-6ae0-4b1d-a1de-e0cd08a4a936",
   "metadata": {},
   "outputs": [
    {
     "data": {
      "text/plain": [
       "[10, 20, 40, 'Waeil', 55.25, True, 10]"
      ]
     },
     "execution_count": 26,
     "metadata": {},
     "output_type": "execute_result"
    }
   ],
   "source": [
    "ls"
   ]
  },
  {
   "cell_type": "code",
   "execution_count": 32,
   "id": "a33120ce-1991-4461-aef4-50a8360ca2d5",
   "metadata": {},
   "outputs": [
    {
     "data": {
      "text/plain": [
       "True"
      ]
     },
     "execution_count": 32,
     "metadata": {},
     "output_type": "execute_result"
    }
   ],
   "source": [
    "10  in ls"
   ]
  },
  {
   "cell_type": "code",
   "execution_count": 29,
   "id": "899c6492-c1b7-492b-8599-e77e58886301",
   "metadata": {},
   "outputs": [
    {
     "data": {
      "text/plain": [
       "True"
      ]
     },
     "execution_count": 29,
     "metadata": {},
     "output_type": "execute_result"
    }
   ],
   "source": [
    "\"Waeil\" in ls"
   ]
  },
  {
   "cell_type": "code",
   "execution_count": 30,
   "id": "4b97a9b1-1604-4913-ae6b-42fb3e2fe7cb",
   "metadata": {},
   "outputs": [
    {
     "data": {
      "text/plain": [
       "True"
      ]
     },
     "execution_count": 30,
     "metadata": {},
     "output_type": "execute_result"
    }
   ],
   "source": [
    "100 not in ls"
   ]
  },
  {
   "cell_type": "markdown",
   "id": "90c571e9-24b2-4b93-90c2-d15fe2101aaa",
   "metadata": {},
   "source": [
    "forward indexing & backward slicing(right direction +v)"
   ]
  },
  {
   "cell_type": "code",
   "execution_count": 36,
   "id": "1dd5bb5d-2cab-4a92-b94f-f2790098b84f",
   "metadata": {},
   "outputs": [
    {
     "data": {
      "text/plain": [
       "[10, 20, 40, 'Waeil', 55.25, True, 10]"
      ]
     },
     "execution_count": 36,
     "metadata": {},
     "output_type": "execute_result"
    }
   ],
   "source": [
    "ls"
   ]
  },
  {
   "cell_type": "code",
   "execution_count": 37,
   "id": "6129f1c9-2b07-4a93-a545-b7a8969bdf62",
   "metadata": {},
   "outputs": [
    {
     "data": {
      "text/plain": [
       "[10, 20, 40, 'Waeil', 55.25, True, 10]"
      ]
     },
     "execution_count": 37,
     "metadata": {},
     "output_type": "execute_result"
    }
   ],
   "source": [
    "ls[:]"
   ]
  },
  {
   "cell_type": "code",
   "execution_count": 40,
   "id": "f01a01a7-478a-48b5-9422-160f866cec0b",
   "metadata": {},
   "outputs": [
    {
     "data": {
      "text/plain": [
       "[10, 20, 40, 'Waeil']"
      ]
     },
     "execution_count": 40,
     "metadata": {},
     "output_type": "execute_result"
    }
   ],
   "source": [
    "ls[0:4]"
   ]
  },
  {
   "cell_type": "code",
   "execution_count": 41,
   "id": "27ace9c8-900c-4963-a69b-b495f98739cf",
   "metadata": {},
   "outputs": [
    {
     "data": {
      "text/plain": [
       "[10, 40, 55.25]"
      ]
     },
     "execution_count": 41,
     "metadata": {},
     "output_type": "execute_result"
    }
   ],
   "source": [
    "ls[0:5:2]"
   ]
  },
  {
   "cell_type": "code",
   "execution_count": 43,
   "id": "ff095718-9ec3-4a75-9a0e-8288f34efc7c",
   "metadata": {},
   "outputs": [
    {
     "data": {
      "text/plain": [
       "['Waeil', 55.25, True, 10]"
      ]
     },
     "execution_count": 43,
     "metadata": {},
     "output_type": "execute_result"
    }
   ],
   "source": [
    "ls[3:]"
   ]
  },
  {
   "cell_type": "code",
   "execution_count": 44,
   "id": "88478ffc-a298-4195-a08a-af90b0e5199b",
   "metadata": {},
   "outputs": [
    {
     "data": {
      "text/plain": [
       "[10, 20, 40]"
      ]
     },
     "execution_count": 44,
     "metadata": {},
     "output_type": "execute_result"
    }
   ],
   "source": [
    "ls[:3]"
   ]
  },
  {
   "cell_type": "code",
   "execution_count": 45,
   "id": "7e64a35d-c81d-4f87-aa01-4dde3d0e6bc7",
   "metadata": {},
   "outputs": [
    {
     "data": {
      "text/plain": [
       "[10, 20, 40, 'Waeil', 55.25, True, 10]"
      ]
     },
     "execution_count": 45,
     "metadata": {},
     "output_type": "execute_result"
    }
   ],
   "source": [
    "ls[::]"
   ]
  },
  {
   "cell_type": "code",
   "execution_count": 46,
   "id": "f17241ac-c87f-4cc9-ba2b-fa6b5732ca54",
   "metadata": {},
   "outputs": [
    {
     "data": {
      "text/plain": [
       "[10, 40, 55.25, 10]"
      ]
     },
     "execution_count": 46,
     "metadata": {},
     "output_type": "execute_result"
    }
   ],
   "source": [
    "ls[::2] #step operator(skipping)"
   ]
  },
  {
   "cell_type": "markdown",
   "id": "02053692-e6ff-4ff7-9fbd-63837330264e",
   "metadata": {},
   "source": [
    "backward indexing & backward slicing(left direction -v)"
   ]
  },
  {
   "cell_type": "code",
   "execution_count": 48,
   "id": "c39ad172-b22c-455c-8e5a-4f80457a9945",
   "metadata": {},
   "outputs": [
    {
     "data": {
      "text/plain": [
       "[10, 20, 40, 'Waeil', 55.25, True, 10]"
      ]
     },
     "execution_count": 48,
     "metadata": {},
     "output_type": "execute_result"
    }
   ],
   "source": [
    "ls"
   ]
  },
  {
   "cell_type": "code",
   "execution_count": 49,
   "id": "45fe1adb-dd9f-4361-ad82-2b3819425826",
   "metadata": {},
   "outputs": [
    {
     "data": {
      "text/plain": [
       "[10, 20, 40, 'Waeil']"
      ]
     },
     "execution_count": 49,
     "metadata": {},
     "output_type": "execute_result"
    }
   ],
   "source": [
    "ls[:-3]"
   ]
  },
  {
   "cell_type": "code",
   "execution_count": 50,
   "id": "a5ed63ff-1046-4c30-9448-49014a145f9a",
   "metadata": {},
   "outputs": [
    {
     "data": {
      "text/plain": [
       "[55.25, True, 10]"
      ]
     },
     "execution_count": 50,
     "metadata": {},
     "output_type": "execute_result"
    }
   ],
   "source": [
    "ls[-3:]"
   ]
  },
  {
   "cell_type": "code",
   "execution_count": 51,
   "id": "a654fd30-c712-4993-9538-1394cbe13185",
   "metadata": {},
   "outputs": [
    {
     "data": {
      "text/plain": [
       "40"
      ]
     },
     "execution_count": 51,
     "metadata": {},
     "output_type": "execute_result"
    }
   ],
   "source": [
    "ls[-5]"
   ]
  },
  {
   "cell_type": "code",
   "execution_count": 52,
   "id": "298b5d1f-08b1-4829-8598-36226ae2bf6a",
   "metadata": {},
   "outputs": [
    {
     "data": {
      "text/plain": [
       "[10, 'Waeil', 10]"
      ]
     },
     "execution_count": 52,
     "metadata": {},
     "output_type": "execute_result"
    }
   ],
   "source": [
    "ls[::-3]"
   ]
  },
  {
   "cell_type": "code",
   "execution_count": 54,
   "id": "90da3b06-cda4-401f-b3de-934d437c9af7",
   "metadata": {},
   "outputs": [
    {
     "name": "stdout",
     "output_type": "stream",
     "text": [
      "[10, 20, 40, 'Waeil', 55.25, True, 10, 10, 20, 40, 'Waeil', 55.25, True, 10, 10, 20, 40, 'Waeil', 55.25, True, 10]\n"
     ]
    }
   ],
   "source": [
    "#removing method \n",
    "print(ls2)"
   ]
  },
  {
   "cell_type": "code",
   "execution_count": 59,
   "id": "87763485-4012-4342-8dfa-c7498809f433",
   "metadata": {},
   "outputs": [],
   "source": [
    "ls2.remove(True)"
   ]
  },
  {
   "cell_type": "code",
   "execution_count": 60,
   "id": "eb20e652-187e-4704-820b-d3044802a4fa",
   "metadata": {},
   "outputs": [
    {
     "name": "stdout",
     "output_type": "stream",
     "text": [
      "[10, 20, 40, 55.25, 10, 10, 20, 40, 'Waeil', 55.25, True, 10, 10, 20, 40, 'Waeil', 55.25, True, 10]\n"
     ]
    }
   ],
   "source": [
    "print(ls2)"
   ]
  },
  {
   "cell_type": "code",
   "execution_count": 61,
   "id": "18acf3fa-d77c-48af-9576-ac2051d6d841",
   "metadata": {},
   "outputs": [
    {
     "data": {
      "text/plain": [
       "[10, 20, 40, 'Waeil', 55.25, True, 10]"
      ]
     },
     "execution_count": 61,
     "metadata": {},
     "output_type": "execute_result"
    }
   ],
   "source": [
    "ls"
   ]
  },
  {
   "cell_type": "code",
   "execution_count": 62,
   "id": "24cb7b80-7815-47a7-8fda-4f90c5a93051",
   "metadata": {},
   "outputs": [],
   "source": [
    "ls.remove('Waeil')"
   ]
  },
  {
   "cell_type": "code",
   "execution_count": 63,
   "id": "112f42c5-8640-4999-b70b-561c7215cbc5",
   "metadata": {},
   "outputs": [
    {
     "name": "stdout",
     "output_type": "stream",
     "text": [
      "[10, 20, 40, 55.25, True, 10]\n"
     ]
    }
   ],
   "source": [
    "print(ls)"
   ]
  },
  {
   "cell_type": "code",
   "execution_count": null,
   "id": "78f55613-04ab-4219-be32-87ea74e77b44",
   "metadata": {},
   "outputs": [],
   "source": []
  }
 ],
 "metadata": {
  "kernelspec": {
   "display_name": "Python 3 (ipykernel)",
   "language": "python",
   "name": "python3"
  },
  "language_info": {
   "codemirror_mode": {
    "name": "ipython",
    "version": 3
   },
   "file_extension": ".py",
   "mimetype": "text/x-python",
   "name": "python",
   "nbconvert_exporter": "python",
   "pygments_lexer": "ipython3",
   "version": "3.13.5"
  }
 },
 "nbformat": 4,
 "nbformat_minor": 5
}
